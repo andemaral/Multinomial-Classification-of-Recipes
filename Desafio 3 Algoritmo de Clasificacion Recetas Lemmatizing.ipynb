{
 "cells": [
  {
   "cell_type": "code",
   "execution_count": 1,
   "metadata": {},
   "outputs": [],
   "source": [
    "import pandas as pd\n",
    "import numpy as np\n",
    "import matplotlib.pyplot as plt\n",
    "import seaborn as sns\n",
    "import scipy.stats\n",
    "import re as re\n",
    "from collections import Counter\n",
    "pd.options.display.max_colwidth=200\n",
    "import sklearn.linear_model\n",
    "from sklearn.linear_model import LogisticRegression\n",
    "from sklearn.naive_bayes import MultinomialNB\n",
    "from sklearn.model_selection import train_test_split, KFold, cross_val_score\n",
    "import csv,json\n",
    "from nltk.stem.wordnet import WordNetLemmatizer\n",
    "from nltk import word_tokenize as TK\n",
    "from nltk import pos_tag\n",
    "from nltk.corpus import stopwords\n",
    "from nltk.stem import PorterStemmer\n",
    "from nltk.tokenize import sent_tokenize, word_tokenize\n",
    "from sklearn.feature_extraction.text import TfidfVectorizer,CountVectorizer\n",
    "from sklearn.neighbors import KNeighborsClassifier\n",
    "from sklearn.metrics import accuracy_score,confusion_matrix,precision_score,recall_score,f1_score\n",
    "from sklearn.preprocessing import StandardScaler\n",
    "import pickle"
   ]
  },
  {
   "cell_type": "code",
   "execution_count": 2,
   "metadata": {},
   "outputs": [
    {
     "name": "stdout",
     "output_type": "stream",
     "text": [
      "{'id': 10259, 'cuisine': 'greek', 'ingredients': ['romaine lettuce', 'black olives', 'grape tomatoes', 'garlic', 'pepper', 'purple onion', 'seasoning', 'garbanzo beans', 'feta cheese crumbles']}\n"
     ]
    }
   ],
   "source": [
    "ps = PorterStemmer()\n",
    "recipe = 'train.json'\n",
    "with open(recipe) as train_file:\n",
    "    dict_train = json.load(train_file)\n",
    "\n",
    "print(dict_train[0])"
   ]
  },
  {
   "cell_type": "code",
   "execution_count": 3,
   "metadata": {},
   "outputs": [],
   "source": [
    "id_ = []\n",
    "cuisine = []\n",
    "ingredients = []\n",
    "for i in range(len(dict_train)):\n",
    "    id_.append(dict_train[i]['id'])\n",
    "    cuisine.append(dict_train[i]['cuisine'])\n",
    "    ingredients.append(dict_train[i]['ingredients'])\n"
   ]
  },
  {
   "cell_type": "code",
   "execution_count": 4,
   "metadata": {},
   "outputs": [],
   "source": [
    "recipe=pd.DataFrame({'id':id_,'country food':cuisine,'ingredients':ingredients})"
   ]
  },
  {
   "cell_type": "code",
   "execution_count": 5,
   "metadata": {},
   "outputs": [
    {
     "data": {
      "text/html": [
       "<div>\n",
       "<style scoped>\n",
       "    .dataframe tbody tr th:only-of-type {\n",
       "        vertical-align: middle;\n",
       "    }\n",
       "\n",
       "    .dataframe tbody tr th {\n",
       "        vertical-align: top;\n",
       "    }\n",
       "\n",
       "    .dataframe thead th {\n",
       "        text-align: right;\n",
       "    }\n",
       "</style>\n",
       "<table border=\"1\" class=\"dataframe\">\n",
       "  <thead>\n",
       "    <tr style=\"text-align: right;\">\n",
       "      <th></th>\n",
       "      <th>id</th>\n",
       "      <th>country food</th>\n",
       "      <th>ingredients</th>\n",
       "    </tr>\n",
       "  </thead>\n",
       "  <tbody>\n",
       "    <tr>\n",
       "      <td>0</td>\n",
       "      <td>10259</td>\n",
       "      <td>greek</td>\n",
       "      <td>[romaine lettuce, black olives, grape tomatoes, garlic, pepper, purple onion, seasoning, garbanzo beans, feta cheese crumbles]</td>\n",
       "    </tr>\n",
       "    <tr>\n",
       "      <td>1</td>\n",
       "      <td>25693</td>\n",
       "      <td>southern_us</td>\n",
       "      <td>[plain flour, ground pepper, salt, tomatoes, ground black pepper, thyme, eggs, green tomatoes, yellow corn meal, milk, vegetable oil]</td>\n",
       "    </tr>\n",
       "    <tr>\n",
       "      <td>2</td>\n",
       "      <td>20130</td>\n",
       "      <td>filipino</td>\n",
       "      <td>[eggs, pepper, salt, mayonaise, cooking oil, green chilies, grilled chicken breasts, garlic powder, yellow onion, soy sauce, butter, chicken livers]</td>\n",
       "    </tr>\n",
       "    <tr>\n",
       "      <td>3</td>\n",
       "      <td>22213</td>\n",
       "      <td>indian</td>\n",
       "      <td>[water, vegetable oil, wheat, salt]</td>\n",
       "    </tr>\n",
       "    <tr>\n",
       "      <td>4</td>\n",
       "      <td>13162</td>\n",
       "      <td>indian</td>\n",
       "      <td>[black pepper, shallots, cornflour, cayenne pepper, onions, garlic paste, milk, butter, salt, lemon juice, water, chili powder, passata, oil, ground cumin, boneless chicken skinless thigh, garam m...</td>\n",
       "    </tr>\n",
       "  </tbody>\n",
       "</table>\n",
       "</div>"
      ],
      "text/plain": [
       "      id country food  \\\n",
       "0  10259        greek   \n",
       "1  25693  southern_us   \n",
       "2  20130     filipino   \n",
       "3  22213       indian   \n",
       "4  13162       indian   \n",
       "\n",
       "                                                                                                                                                                                               ingredients  \n",
       "0                                                                           [romaine lettuce, black olives, grape tomatoes, garlic, pepper, purple onion, seasoning, garbanzo beans, feta cheese crumbles]  \n",
       "1                                                                    [plain flour, ground pepper, salt, tomatoes, ground black pepper, thyme, eggs, green tomatoes, yellow corn meal, milk, vegetable oil]  \n",
       "2                                                     [eggs, pepper, salt, mayonaise, cooking oil, green chilies, grilled chicken breasts, garlic powder, yellow onion, soy sauce, butter, chicken livers]  \n",
       "3                                                                                                                                                                      [water, vegetable oil, wheat, salt]  \n",
       "4  [black pepper, shallots, cornflour, cayenne pepper, onions, garlic paste, milk, butter, salt, lemon juice, water, chili powder, passata, oil, ground cumin, boneless chicken skinless thigh, garam m...  "
      ]
     },
     "execution_count": 5,
     "metadata": {},
     "output_type": "execute_result"
    }
   ],
   "source": [
    "recipe.head()"
   ]
  },
  {
   "cell_type": "code",
   "execution_count": 6,
   "metadata": {},
   "outputs": [],
   "source": [
    "#recipe.to_csv(r'C:\\Users\\Mankarov\\Dropbox\\Data Science\\Desafio\\Modulo 3\\datasets ideas\\Recetas e Ingredientes\\recipe_csv')"
   ]
  },
  {
   "cell_type": "code",
   "execution_count": 7,
   "metadata": {},
   "outputs": [],
   "source": [
    "new = []\n",
    "for s in recipe['ingredients']:\n",
    "    s = ' '.join(s)\n",
    "    new.append(s)"
   ]
  },
  {
   "cell_type": "code",
   "execution_count": null,
   "metadata": {},
   "outputs": [],
   "source": []
  },
  {
   "cell_type": "code",
   "execution_count": 8,
   "metadata": {},
   "outputs": [],
   "source": [
    "recipe['ing']=new\n",
    "#test['ing']=new_t\n"
   ]
  },
  {
   "cell_type": "code",
   "execution_count": 9,
   "metadata": {},
   "outputs": [
    {
     "data": {
      "text/html": [
       "<div>\n",
       "<style scoped>\n",
       "    .dataframe tbody tr th:only-of-type {\n",
       "        vertical-align: middle;\n",
       "    }\n",
       "\n",
       "    .dataframe tbody tr th {\n",
       "        vertical-align: top;\n",
       "    }\n",
       "\n",
       "    .dataframe thead th {\n",
       "        text-align: right;\n",
       "    }\n",
       "</style>\n",
       "<table border=\"1\" class=\"dataframe\">\n",
       "  <thead>\n",
       "    <tr style=\"text-align: right;\">\n",
       "      <th></th>\n",
       "      <th>id</th>\n",
       "      <th>country food</th>\n",
       "      <th>ingredients</th>\n",
       "      <th>ing</th>\n",
       "    </tr>\n",
       "  </thead>\n",
       "  <tbody>\n",
       "    <tr>\n",
       "      <td>0</td>\n",
       "      <td>10259</td>\n",
       "      <td>greek</td>\n",
       "      <td>[romaine lettuce, black olives, grape tomatoes, garlic, pepper, purple onion, seasoning, garbanzo beans, feta cheese crumbles]</td>\n",
       "      <td>romaine lettuce black olives grape tomatoes garlic pepper purple onion seasoning garbanzo beans feta cheese crumbles</td>\n",
       "    </tr>\n",
       "    <tr>\n",
       "      <td>1</td>\n",
       "      <td>25693</td>\n",
       "      <td>southern_us</td>\n",
       "      <td>[plain flour, ground pepper, salt, tomatoes, ground black pepper, thyme, eggs, green tomatoes, yellow corn meal, milk, vegetable oil]</td>\n",
       "      <td>plain flour ground pepper salt tomatoes ground black pepper thyme eggs green tomatoes yellow corn meal milk vegetable oil</td>\n",
       "    </tr>\n",
       "    <tr>\n",
       "      <td>2</td>\n",
       "      <td>20130</td>\n",
       "      <td>filipino</td>\n",
       "      <td>[eggs, pepper, salt, mayonaise, cooking oil, green chilies, grilled chicken breasts, garlic powder, yellow onion, soy sauce, butter, chicken livers]</td>\n",
       "      <td>eggs pepper salt mayonaise cooking oil green chilies grilled chicken breasts garlic powder yellow onion soy sauce butter chicken livers</td>\n",
       "    </tr>\n",
       "    <tr>\n",
       "      <td>3</td>\n",
       "      <td>22213</td>\n",
       "      <td>indian</td>\n",
       "      <td>[water, vegetable oil, wheat, salt]</td>\n",
       "      <td>water vegetable oil wheat salt</td>\n",
       "    </tr>\n",
       "    <tr>\n",
       "      <td>4</td>\n",
       "      <td>13162</td>\n",
       "      <td>indian</td>\n",
       "      <td>[black pepper, shallots, cornflour, cayenne pepper, onions, garlic paste, milk, butter, salt, lemon juice, water, chili powder, passata, oil, ground cumin, boneless chicken skinless thigh, garam m...</td>\n",
       "      <td>black pepper shallots cornflour cayenne pepper onions garlic paste milk butter salt lemon juice water chili powder passata oil ground cumin boneless chicken skinless thigh garam masala double crea...</td>\n",
       "    </tr>\n",
       "  </tbody>\n",
       "</table>\n",
       "</div>"
      ],
      "text/plain": [
       "      id country food  \\\n",
       "0  10259        greek   \n",
       "1  25693  southern_us   \n",
       "2  20130     filipino   \n",
       "3  22213       indian   \n",
       "4  13162       indian   \n",
       "\n",
       "                                                                                                                                                                                               ingredients  \\\n",
       "0                                                                           [romaine lettuce, black olives, grape tomatoes, garlic, pepper, purple onion, seasoning, garbanzo beans, feta cheese crumbles]   \n",
       "1                                                                    [plain flour, ground pepper, salt, tomatoes, ground black pepper, thyme, eggs, green tomatoes, yellow corn meal, milk, vegetable oil]   \n",
       "2                                                     [eggs, pepper, salt, mayonaise, cooking oil, green chilies, grilled chicken breasts, garlic powder, yellow onion, soy sauce, butter, chicken livers]   \n",
       "3                                                                                                                                                                      [water, vegetable oil, wheat, salt]   \n",
       "4  [black pepper, shallots, cornflour, cayenne pepper, onions, garlic paste, milk, butter, salt, lemon juice, water, chili powder, passata, oil, ground cumin, boneless chicken skinless thigh, garam m...   \n",
       "\n",
       "                                                                                                                                                                                                       ing  \n",
       "0                                                                                     romaine lettuce black olives grape tomatoes garlic pepper purple onion seasoning garbanzo beans feta cheese crumbles  \n",
       "1                                                                                plain flour ground pepper salt tomatoes ground black pepper thyme eggs green tomatoes yellow corn meal milk vegetable oil  \n",
       "2                                                                  eggs pepper salt mayonaise cooking oil green chilies grilled chicken breasts garlic powder yellow onion soy sauce butter chicken livers  \n",
       "3                                                                                                                                                                           water vegetable oil wheat salt  \n",
       "4  black pepper shallots cornflour cayenne pepper onions garlic paste milk butter salt lemon juice water chili powder passata oil ground cumin boneless chicken skinless thigh garam masala double crea...  "
      ]
     },
     "execution_count": 9,
     "metadata": {},
     "output_type": "execute_result"
    }
   ],
   "source": [
    "recipe.head()"
   ]
  },
  {
   "cell_type": "code",
   "execution_count": 10,
   "metadata": {},
   "outputs": [],
   "source": [
    "#traindf = pd.read_json(\"../input/train.json\")\n",
    "#traindf['ingredients_clean_string'] = [' , '.join(z).strip() for z in traindf['ingredients']]  \n",
    "#traindf['ingredients_string'] = [' '.join([WordNetLemmatizer().lemmatize(re.sub('[^A-Za-z]', ' ', line)) for line in lists]).strip() for lists in traindf['ingredients']]       \n",
    "\n",
    "#testdf = pd.read_json(\"../input/test.json\") \n",
    "#testdf['ingredients_clean_string'] = [' , '.join(z).strip() for z in testdf['ingredients']]\n",
    "#testdf['ingredients_string'] = [' '.join([WordNetLemmatizer().lemmatize(re.sub('[^A-Za-z]', ' ', line)) for line in lists]).strip() for lists in testdf['ingredients']] "
   ]
  },
  {
   "cell_type": "code",
   "execution_count": 11,
   "metadata": {},
   "outputs": [],
   "source": [
    "#vectorizertr = TfidfVectorizer(stop_words='english',\n",
    "                             #ngram_range = ( 1 , 1 ),analyzer=\"word\", \n",
    "                             #max_df = .57 , binary=False , token_pattern=r'\\w+' , sublinear_tf=False)"
   ]
  },
  {
   "cell_type": "code",
   "execution_count": 12,
   "metadata": {},
   "outputs": [],
   "source": [
    "#ingr=[]\n",
    "#for s in recipe['ing']:\n",
    "    #s=s.lower()\n",
    "    #saca el simbolito TradeMark\n",
    "    #s=re.sub(u'\\w*\\u2122', '', s)\n",
    "    #elimina contenido entre parentesis\n",
    "    #s=re.sub(r'\\([^)]*\\)', '', s)\n",
    "    #saco los digitos\n",
    "    #s=re.sub(r'\\r','',s)\n",
    "    #saco la puntuacion\n",
    "    #s=re.sub(r'[^\\w\\s]','',s)\n",
    "    #ingr.append(s)\n",
    "    \n"
   ]
  },
  {
   "cell_type": "code",
   "execution_count": 13,
   "metadata": {},
   "outputs": [],
   "source": [
    "#recipe['ing']=ingr"
   ]
  },
  {
   "cell_type": "code",
   "execution_count": 14,
   "metadata": {},
   "outputs": [
    {
     "data": {
      "text/html": [
       "<div>\n",
       "<style scoped>\n",
       "    .dataframe tbody tr th:only-of-type {\n",
       "        vertical-align: middle;\n",
       "    }\n",
       "\n",
       "    .dataframe tbody tr th {\n",
       "        vertical-align: top;\n",
       "    }\n",
       "\n",
       "    .dataframe thead th {\n",
       "        text-align: right;\n",
       "    }\n",
       "</style>\n",
       "<table border=\"1\" class=\"dataframe\">\n",
       "  <thead>\n",
       "    <tr style=\"text-align: right;\">\n",
       "      <th></th>\n",
       "      <th>id</th>\n",
       "      <th>country food</th>\n",
       "      <th>ingredients</th>\n",
       "      <th>ing</th>\n",
       "    </tr>\n",
       "  </thead>\n",
       "  <tbody>\n",
       "    <tr>\n",
       "      <td>0</td>\n",
       "      <td>10259</td>\n",
       "      <td>greek</td>\n",
       "      <td>[romaine lettuce, black olives, grape tomatoes, garlic, pepper, purple onion, seasoning, garbanzo beans, feta cheese crumbles]</td>\n",
       "      <td>romaine lettuce black olives grape tomatoes garlic pepper purple onion seasoning garbanzo beans feta cheese crumbles</td>\n",
       "    </tr>\n",
       "    <tr>\n",
       "      <td>1</td>\n",
       "      <td>25693</td>\n",
       "      <td>southern_us</td>\n",
       "      <td>[plain flour, ground pepper, salt, tomatoes, ground black pepper, thyme, eggs, green tomatoes, yellow corn meal, milk, vegetable oil]</td>\n",
       "      <td>plain flour ground pepper salt tomatoes ground black pepper thyme eggs green tomatoes yellow corn meal milk vegetable oil</td>\n",
       "    </tr>\n",
       "    <tr>\n",
       "      <td>2</td>\n",
       "      <td>20130</td>\n",
       "      <td>filipino</td>\n",
       "      <td>[eggs, pepper, salt, mayonaise, cooking oil, green chilies, grilled chicken breasts, garlic powder, yellow onion, soy sauce, butter, chicken livers]</td>\n",
       "      <td>eggs pepper salt mayonaise cooking oil green chilies grilled chicken breasts garlic powder yellow onion soy sauce butter chicken livers</td>\n",
       "    </tr>\n",
       "    <tr>\n",
       "      <td>3</td>\n",
       "      <td>22213</td>\n",
       "      <td>indian</td>\n",
       "      <td>[water, vegetable oil, wheat, salt]</td>\n",
       "      <td>water vegetable oil wheat salt</td>\n",
       "    </tr>\n",
       "    <tr>\n",
       "      <td>4</td>\n",
       "      <td>13162</td>\n",
       "      <td>indian</td>\n",
       "      <td>[black pepper, shallots, cornflour, cayenne pepper, onions, garlic paste, milk, butter, salt, lemon juice, water, chili powder, passata, oil, ground cumin, boneless chicken skinless thigh, garam m...</td>\n",
       "      <td>black pepper shallots cornflour cayenne pepper onions garlic paste milk butter salt lemon juice water chili powder passata oil ground cumin boneless chicken skinless thigh garam masala double crea...</td>\n",
       "    </tr>\n",
       "    <tr>\n",
       "      <td>...</td>\n",
       "      <td>...</td>\n",
       "      <td>...</td>\n",
       "      <td>...</td>\n",
       "      <td>...</td>\n",
       "    </tr>\n",
       "    <tr>\n",
       "      <td>39769</td>\n",
       "      <td>29109</td>\n",
       "      <td>irish</td>\n",
       "      <td>[light brown sugar, granulated sugar, butter, warm water, large eggs, all-purpose flour, whole wheat flour, cooking spray, boiling water, steel-cut oats, dry yeast, salt]</td>\n",
       "      <td>light brown sugar granulated sugar butter warm water large eggs all-purpose flour whole wheat flour cooking spray boiling water steel-cut oats dry yeast salt</td>\n",
       "    </tr>\n",
       "    <tr>\n",
       "      <td>39770</td>\n",
       "      <td>11462</td>\n",
       "      <td>italian</td>\n",
       "      <td>[KRAFT Zesty Italian Dressing, purple onion, broccoli florets, rotini, pitted black olives, Kraft Grated Parmesan Cheese, red pepper]</td>\n",
       "      <td>KRAFT Zesty Italian Dressing purple onion broccoli florets rotini pitted black olives Kraft Grated Parmesan Cheese red pepper</td>\n",
       "    </tr>\n",
       "    <tr>\n",
       "      <td>39771</td>\n",
       "      <td>2238</td>\n",
       "      <td>irish</td>\n",
       "      <td>[eggs, citrus fruit, raisins, sourdough starter, flour, hot tea, sugar, ground nutmeg, salt, ground cinnamon, milk, butter]</td>\n",
       "      <td>eggs citrus fruit raisins sourdough starter flour hot tea sugar ground nutmeg salt ground cinnamon milk butter</td>\n",
       "    </tr>\n",
       "    <tr>\n",
       "      <td>39772</td>\n",
       "      <td>41882</td>\n",
       "      <td>chinese</td>\n",
       "      <td>[boneless chicken skinless thigh, minced garlic, steamed white rice, baking powder, corn starch, dark soy sauce, kosher salt, peanuts, flour, scallions, Chinese rice vinegar, vodka, fresh ginger, ...</td>\n",
       "      <td>boneless chicken skinless thigh minced garlic steamed white rice baking powder corn starch dark soy sauce kosher salt peanuts flour scallions Chinese rice vinegar vodka fresh ginger egg whites bro...</td>\n",
       "    </tr>\n",
       "    <tr>\n",
       "      <td>39773</td>\n",
       "      <td>2362</td>\n",
       "      <td>mexican</td>\n",
       "      <td>[green chile, jalapeno chilies, onions, ground black pepper, salt, chopped cilantro fresh, green bell pepper, garlic, white sugar, roma tomatoes, celery, dried oregano]</td>\n",
       "      <td>green chile jalapeno chilies onions ground black pepper salt chopped cilantro fresh green bell pepper garlic white sugar roma tomatoes celery dried oregano</td>\n",
       "    </tr>\n",
       "  </tbody>\n",
       "</table>\n",
       "<p>39774 rows × 4 columns</p>\n",
       "</div>"
      ],
      "text/plain": [
       "          id country food  \\\n",
       "0      10259        greek   \n",
       "1      25693  southern_us   \n",
       "2      20130     filipino   \n",
       "3      22213       indian   \n",
       "4      13162       indian   \n",
       "...      ...          ...   \n",
       "39769  29109        irish   \n",
       "39770  11462      italian   \n",
       "39771   2238        irish   \n",
       "39772  41882      chinese   \n",
       "39773   2362      mexican   \n",
       "\n",
       "                                                                                                                                                                                                   ingredients  \\\n",
       "0                                                                               [romaine lettuce, black olives, grape tomatoes, garlic, pepper, purple onion, seasoning, garbanzo beans, feta cheese crumbles]   \n",
       "1                                                                        [plain flour, ground pepper, salt, tomatoes, ground black pepper, thyme, eggs, green tomatoes, yellow corn meal, milk, vegetable oil]   \n",
       "2                                                         [eggs, pepper, salt, mayonaise, cooking oil, green chilies, grilled chicken breasts, garlic powder, yellow onion, soy sauce, butter, chicken livers]   \n",
       "3                                                                                                                                                                          [water, vegetable oil, wheat, salt]   \n",
       "4      [black pepper, shallots, cornflour, cayenne pepper, onions, garlic paste, milk, butter, salt, lemon juice, water, chili powder, passata, oil, ground cumin, boneless chicken skinless thigh, garam m...   \n",
       "...                                                                                                                                                                                                        ...   \n",
       "39769                               [light brown sugar, granulated sugar, butter, warm water, large eggs, all-purpose flour, whole wheat flour, cooking spray, boiling water, steel-cut oats, dry yeast, salt]   \n",
       "39770                                                                    [KRAFT Zesty Italian Dressing, purple onion, broccoli florets, rotini, pitted black olives, Kraft Grated Parmesan Cheese, red pepper]   \n",
       "39771                                                                              [eggs, citrus fruit, raisins, sourdough starter, flour, hot tea, sugar, ground nutmeg, salt, ground cinnamon, milk, butter]   \n",
       "39772  [boneless chicken skinless thigh, minced garlic, steamed white rice, baking powder, corn starch, dark soy sauce, kosher salt, peanuts, flour, scallions, Chinese rice vinegar, vodka, fresh ginger, ...   \n",
       "39773                                 [green chile, jalapeno chilies, onions, ground black pepper, salt, chopped cilantro fresh, green bell pepper, garlic, white sugar, roma tomatoes, celery, dried oregano]   \n",
       "\n",
       "                                                                                                                                                                                                           ing  \n",
       "0                                                                                         romaine lettuce black olives grape tomatoes garlic pepper purple onion seasoning garbanzo beans feta cheese crumbles  \n",
       "1                                                                                    plain flour ground pepper salt tomatoes ground black pepper thyme eggs green tomatoes yellow corn meal milk vegetable oil  \n",
       "2                                                                      eggs pepper salt mayonaise cooking oil green chilies grilled chicken breasts garlic powder yellow onion soy sauce butter chicken livers  \n",
       "3                                                                                                                                                                               water vegetable oil wheat salt  \n",
       "4      black pepper shallots cornflour cayenne pepper onions garlic paste milk butter salt lemon juice water chili powder passata oil ground cumin boneless chicken skinless thigh garam masala double crea...  \n",
       "...                                                                                                                                                                                                        ...  \n",
       "39769                                            light brown sugar granulated sugar butter warm water large eggs all-purpose flour whole wheat flour cooking spray boiling water steel-cut oats dry yeast salt  \n",
       "39770                                                                            KRAFT Zesty Italian Dressing purple onion broccoli florets rotini pitted black olives Kraft Grated Parmesan Cheese red pepper  \n",
       "39771                                                                                           eggs citrus fruit raisins sourdough starter flour hot tea sugar ground nutmeg salt ground cinnamon milk butter  \n",
       "39772  boneless chicken skinless thigh minced garlic steamed white rice baking powder corn starch dark soy sauce kosher salt peanuts flour scallions Chinese rice vinegar vodka fresh ginger egg whites bro...  \n",
       "39773                                              green chile jalapeno chilies onions ground black pepper salt chopped cilantro fresh green bell pepper garlic white sugar roma tomatoes celery dried oregano  \n",
       "\n",
       "[39774 rows x 4 columns]"
      ]
     },
     "execution_count": 14,
     "metadata": {},
     "output_type": "execute_result"
    }
   ],
   "source": [
    "recipe"
   ]
  },
  {
   "cell_type": "code",
   "execution_count": null,
   "metadata": {},
   "outputs": [],
   "source": []
  },
  {
   "cell_type": "code",
   "execution_count": 15,
   "metadata": {},
   "outputs": [],
   "source": [
    "#test['q ing']=test['ingredients'].apply(len)"
   ]
  },
  {
   "cell_type": "code",
   "execution_count": null,
   "metadata": {},
   "outputs": [],
   "source": []
  },
  {
   "cell_type": "code",
   "execution_count": null,
   "metadata": {},
   "outputs": [],
   "source": []
  },
  {
   "cell_type": "code",
   "execution_count": 16,
   "metadata": {},
   "outputs": [
    {
     "data": {
      "text/html": [
       "<div>\n",
       "<style scoped>\n",
       "    .dataframe tbody tr th:only-of-type {\n",
       "        vertical-align: middle;\n",
       "    }\n",
       "\n",
       "    .dataframe tbody tr th {\n",
       "        vertical-align: top;\n",
       "    }\n",
       "\n",
       "    .dataframe thead th {\n",
       "        text-align: right;\n",
       "    }\n",
       "</style>\n",
       "<table border=\"1\" class=\"dataframe\">\n",
       "  <thead>\n",
       "    <tr style=\"text-align: right;\">\n",
       "      <th></th>\n",
       "      <th>id</th>\n",
       "      <th>country food</th>\n",
       "      <th>ingredients</th>\n",
       "      <th>ing</th>\n",
       "    </tr>\n",
       "  </thead>\n",
       "  <tbody>\n",
       "    <tr>\n",
       "      <td>0</td>\n",
       "      <td>10259</td>\n",
       "      <td>greek</td>\n",
       "      <td>[romaine lettuce, black olives, grape tomatoes, garlic, pepper, purple onion, seasoning, garbanzo beans, feta cheese crumbles]</td>\n",
       "      <td>romaine lettuce black olives grape tomatoes garlic pepper purple onion seasoning garbanzo beans feta cheese crumbles</td>\n",
       "    </tr>\n",
       "    <tr>\n",
       "      <td>1</td>\n",
       "      <td>25693</td>\n",
       "      <td>southern_us</td>\n",
       "      <td>[plain flour, ground pepper, salt, tomatoes, ground black pepper, thyme, eggs, green tomatoes, yellow corn meal, milk, vegetable oil]</td>\n",
       "      <td>plain flour ground pepper salt tomatoes ground black pepper thyme eggs green tomatoes yellow corn meal milk vegetable oil</td>\n",
       "    </tr>\n",
       "    <tr>\n",
       "      <td>2</td>\n",
       "      <td>20130</td>\n",
       "      <td>filipino</td>\n",
       "      <td>[eggs, pepper, salt, mayonaise, cooking oil, green chilies, grilled chicken breasts, garlic powder, yellow onion, soy sauce, butter, chicken livers]</td>\n",
       "      <td>eggs pepper salt mayonaise cooking oil green chilies grilled chicken breasts garlic powder yellow onion soy sauce butter chicken livers</td>\n",
       "    </tr>\n",
       "    <tr>\n",
       "      <td>3</td>\n",
       "      <td>22213</td>\n",
       "      <td>indian</td>\n",
       "      <td>[water, vegetable oil, wheat, salt]</td>\n",
       "      <td>water vegetable oil wheat salt</td>\n",
       "    </tr>\n",
       "    <tr>\n",
       "      <td>4</td>\n",
       "      <td>13162</td>\n",
       "      <td>indian</td>\n",
       "      <td>[black pepper, shallots, cornflour, cayenne pepper, onions, garlic paste, milk, butter, salt, lemon juice, water, chili powder, passata, oil, ground cumin, boneless chicken skinless thigh, garam m...</td>\n",
       "      <td>black pepper shallots cornflour cayenne pepper onions garlic paste milk butter salt lemon juice water chili powder passata oil ground cumin boneless chicken skinless thigh garam masala double crea...</td>\n",
       "    </tr>\n",
       "    <tr>\n",
       "      <td>...</td>\n",
       "      <td>...</td>\n",
       "      <td>...</td>\n",
       "      <td>...</td>\n",
       "      <td>...</td>\n",
       "    </tr>\n",
       "    <tr>\n",
       "      <td>39769</td>\n",
       "      <td>29109</td>\n",
       "      <td>irish</td>\n",
       "      <td>[light brown sugar, granulated sugar, butter, warm water, large eggs, all-purpose flour, whole wheat flour, cooking spray, boiling water, steel-cut oats, dry yeast, salt]</td>\n",
       "      <td>light brown sugar granulated sugar butter warm water large eggs all-purpose flour whole wheat flour cooking spray boiling water steel-cut oats dry yeast salt</td>\n",
       "    </tr>\n",
       "    <tr>\n",
       "      <td>39770</td>\n",
       "      <td>11462</td>\n",
       "      <td>italian</td>\n",
       "      <td>[KRAFT Zesty Italian Dressing, purple onion, broccoli florets, rotini, pitted black olives, Kraft Grated Parmesan Cheese, red pepper]</td>\n",
       "      <td>KRAFT Zesty Italian Dressing purple onion broccoli florets rotini pitted black olives Kraft Grated Parmesan Cheese red pepper</td>\n",
       "    </tr>\n",
       "    <tr>\n",
       "      <td>39771</td>\n",
       "      <td>2238</td>\n",
       "      <td>irish</td>\n",
       "      <td>[eggs, citrus fruit, raisins, sourdough starter, flour, hot tea, sugar, ground nutmeg, salt, ground cinnamon, milk, butter]</td>\n",
       "      <td>eggs citrus fruit raisins sourdough starter flour hot tea sugar ground nutmeg salt ground cinnamon milk butter</td>\n",
       "    </tr>\n",
       "    <tr>\n",
       "      <td>39772</td>\n",
       "      <td>41882</td>\n",
       "      <td>chinese</td>\n",
       "      <td>[boneless chicken skinless thigh, minced garlic, steamed white rice, baking powder, corn starch, dark soy sauce, kosher salt, peanuts, flour, scallions, Chinese rice vinegar, vodka, fresh ginger, ...</td>\n",
       "      <td>boneless chicken skinless thigh minced garlic steamed white rice baking powder corn starch dark soy sauce kosher salt peanuts flour scallions Chinese rice vinegar vodka fresh ginger egg whites bro...</td>\n",
       "    </tr>\n",
       "    <tr>\n",
       "      <td>39773</td>\n",
       "      <td>2362</td>\n",
       "      <td>mexican</td>\n",
       "      <td>[green chile, jalapeno chilies, onions, ground black pepper, salt, chopped cilantro fresh, green bell pepper, garlic, white sugar, roma tomatoes, celery, dried oregano]</td>\n",
       "      <td>green chile jalapeno chilies onions ground black pepper salt chopped cilantro fresh green bell pepper garlic white sugar roma tomatoes celery dried oregano</td>\n",
       "    </tr>\n",
       "  </tbody>\n",
       "</table>\n",
       "<p>39774 rows × 4 columns</p>\n",
       "</div>"
      ],
      "text/plain": [
       "          id country food  \\\n",
       "0      10259        greek   \n",
       "1      25693  southern_us   \n",
       "2      20130     filipino   \n",
       "3      22213       indian   \n",
       "4      13162       indian   \n",
       "...      ...          ...   \n",
       "39769  29109        irish   \n",
       "39770  11462      italian   \n",
       "39771   2238        irish   \n",
       "39772  41882      chinese   \n",
       "39773   2362      mexican   \n",
       "\n",
       "                                                                                                                                                                                                   ingredients  \\\n",
       "0                                                                               [romaine lettuce, black olives, grape tomatoes, garlic, pepper, purple onion, seasoning, garbanzo beans, feta cheese crumbles]   \n",
       "1                                                                        [plain flour, ground pepper, salt, tomatoes, ground black pepper, thyme, eggs, green tomatoes, yellow corn meal, milk, vegetable oil]   \n",
       "2                                                         [eggs, pepper, salt, mayonaise, cooking oil, green chilies, grilled chicken breasts, garlic powder, yellow onion, soy sauce, butter, chicken livers]   \n",
       "3                                                                                                                                                                          [water, vegetable oil, wheat, salt]   \n",
       "4      [black pepper, shallots, cornflour, cayenne pepper, onions, garlic paste, milk, butter, salt, lemon juice, water, chili powder, passata, oil, ground cumin, boneless chicken skinless thigh, garam m...   \n",
       "...                                                                                                                                                                                                        ...   \n",
       "39769                               [light brown sugar, granulated sugar, butter, warm water, large eggs, all-purpose flour, whole wheat flour, cooking spray, boiling water, steel-cut oats, dry yeast, salt]   \n",
       "39770                                                                    [KRAFT Zesty Italian Dressing, purple onion, broccoli florets, rotini, pitted black olives, Kraft Grated Parmesan Cheese, red pepper]   \n",
       "39771                                                                              [eggs, citrus fruit, raisins, sourdough starter, flour, hot tea, sugar, ground nutmeg, salt, ground cinnamon, milk, butter]   \n",
       "39772  [boneless chicken skinless thigh, minced garlic, steamed white rice, baking powder, corn starch, dark soy sauce, kosher salt, peanuts, flour, scallions, Chinese rice vinegar, vodka, fresh ginger, ...   \n",
       "39773                                 [green chile, jalapeno chilies, onions, ground black pepper, salt, chopped cilantro fresh, green bell pepper, garlic, white sugar, roma tomatoes, celery, dried oregano]   \n",
       "\n",
       "                                                                                                                                                                                                           ing  \n",
       "0                                                                                         romaine lettuce black olives grape tomatoes garlic pepper purple onion seasoning garbanzo beans feta cheese crumbles  \n",
       "1                                                                                    plain flour ground pepper salt tomatoes ground black pepper thyme eggs green tomatoes yellow corn meal milk vegetable oil  \n",
       "2                                                                      eggs pepper salt mayonaise cooking oil green chilies grilled chicken breasts garlic powder yellow onion soy sauce butter chicken livers  \n",
       "3                                                                                                                                                                               water vegetable oil wheat salt  \n",
       "4      black pepper shallots cornflour cayenne pepper onions garlic paste milk butter salt lemon juice water chili powder passata oil ground cumin boneless chicken skinless thigh garam masala double crea...  \n",
       "...                                                                                                                                                                                                        ...  \n",
       "39769                                            light brown sugar granulated sugar butter warm water large eggs all-purpose flour whole wheat flour cooking spray boiling water steel-cut oats dry yeast salt  \n",
       "39770                                                                            KRAFT Zesty Italian Dressing purple onion broccoli florets rotini pitted black olives Kraft Grated Parmesan Cheese red pepper  \n",
       "39771                                                                                           eggs citrus fruit raisins sourdough starter flour hot tea sugar ground nutmeg salt ground cinnamon milk butter  \n",
       "39772  boneless chicken skinless thigh minced garlic steamed white rice baking powder corn starch dark soy sauce kosher salt peanuts flour scallions Chinese rice vinegar vodka fresh ginger egg whites bro...  \n",
       "39773                                              green chile jalapeno chilies onions ground black pepper salt chopped cilantro fresh green bell pepper garlic white sugar roma tomatoes celery dried oregano  \n",
       "\n",
       "[39774 rows x 4 columns]"
      ]
     },
     "execution_count": 16,
     "metadata": {},
     "output_type": "execute_result"
    }
   ],
   "source": [
    "recipe"
   ]
  },
  {
   "cell_type": "code",
   "execution_count": 17,
   "metadata": {},
   "outputs": [],
   "source": [
    "# substitute the matched pattern\n",
    "def sub_match(pattern, sub_pattern, ingredients):\n",
    "    for i in ingredients.index.values:\n",
    "        for j in range(len(ingredients[i])):\n",
    "            ingredients[i][j] = re.sub(pattern, sub_pattern, ingredients[i][j].strip())\n",
    "            ingredients[i][j] = ingredients[i][j].strip()\n",
    "    re.purge()\n",
    "    return ingredients\n",
    "\n",
    "def regex_sub_match(series):\n",
    "    # remove all units\n",
    "    p0 = re.compile(r'\\s*(oz|ounc|ounce|pound|lb|inch|inches|kg|to)\\s*[^a-z]')\n",
    "    series = sub_match(p0, ' ', series)\n",
    "    # remove all digits\n",
    "    p1 = re.compile(r'\\d+')\n",
    "    series = sub_match(p1, ' ', series)\n",
    "    # remove all the non-letter characters\n",
    "    p2 = re.compile('[^\\w]')\n",
    "    series = sub_match(p2, ' ', series)\n",
    "    #remove all the trademark character\n",
    "    p3=re.compile(u'\\w*\\u2122')\n",
    "    series = sub_match(p3, ' ', series)\n",
    "\n",
    "    return series"
   ]
  },
  {
   "cell_type": "code",
   "execution_count": 18,
   "metadata": {},
   "outputs": [],
   "source": [
    "# declare instance from WordNetLemmatizer\n",
    "lemmatizer = WordNetLemmatizer()\n",
    "\n",
    "# remove all the words that are not nouns -- keep the essential ingredients\n",
    "def lemma(series):\n",
    "    for i in series.index.values:\n",
    "        for j in range(len(series[i])):\n",
    "            # get rid of all extra spaces\n",
    "            series[i][j] = series[i][j].strip()\n",
    "            # Tokenize a string to split off punctuation other than periods\n",
    "            token = TK(series[i][j])\n",
    "            # set all the plural nouns into singular nouns\n",
    "            for k in range(len(token)):\n",
    "                token[k] = lemmatizer.lemmatize(token[k])\n",
    "            token = ' '.join(token)\n",
    "            # write them back\n",
    "            series[i][j] = token\n",
    "    return series"
   ]
  },
  {
   "cell_type": "code",
   "execution_count": 19,
   "metadata": {},
   "outputs": [],
   "source": [
    "ingr_series_recipe = recipe['ingredients']\n",
    "ing_series_recipe=regex_sub_match(ingr_series_recipe)"
   ]
  },
  {
   "cell_type": "code",
   "execution_count": 20,
   "metadata": {},
   "outputs": [
    {
     "data": {
      "text/plain": [
       "0                                                                                 [romaine lettuce, black olives, grape tomatoes, garlic, pepper, purple onion, seasoning, garbanzo beans, feta cheese crumbles]\n",
       "1                                                                          [plain flour, ground pepper, salt, tomatoes, ground black pepper, thyme, eggs, green tomatoes, yellow corn meal, milk, vegetable oil]\n",
       "2                                                           [eggs, pepper, salt, mayonaise, cooking oil, green chilies, grilled chicken breasts, garlic powder, yellow onion, soy sauce, butter, chicken livers]\n",
       "3                                                                                                                                                                            [water, vegetable oil, wheat, salt]\n",
       "4        [black pepper, shallots, cornflour, cayenne pepper, onions, garlic paste, milk, butter, salt, lemon juice, water, chili powder, passata, oil, ground cumin, boneless chicken skinless thigh, garam m...\n",
       "                                                                                                          ...                                                                                                   \n",
       "39769                                 [light brown sugar, granulated sugar, butter, warm water, large eggs, all purpose flour, whole wheat flour, cooking spray, boiling water, steel cut oats, dry yeast, salt]\n",
       "39770                                                                      [KRAFT Zesty Italian Dressing, purple onion, broccoli florets, rotini, pitted black olives, Kraft Grated Parmesan Cheese, red pepper]\n",
       "39771                                                                                [eggs, citrus fruit, raisins, sourdough starter, flour, hot tea, sugar, ground nutmeg, salt, ground cinnamon, milk, butter]\n",
       "39772    [boneless chicken skinless thigh, minced garlic, steamed white rice, baking powder, corn starch, dark soy sauce, kosher salt, peanuts, flour, scallions, Chinese rice vinegar, vodka, fresh ginger, ...\n",
       "39773                                   [green chile, jalapeno chilies, onions, ground black pepper, salt, chopped cilantro fresh, green bell pepper, garlic, white sugar, roma tomatoes, celery, dried oregano]\n",
       "Name: ingredients, Length: 39774, dtype: object"
      ]
     },
     "execution_count": 20,
     "metadata": {},
     "output_type": "execute_result"
    }
   ],
   "source": [
    "ingr_series_recipe"
   ]
  },
  {
   "cell_type": "code",
   "execution_count": 21,
   "metadata": {},
   "outputs": [],
   "source": [
    "ingredients_recipe = lemma(ingr_series_recipe)\n"
   ]
  },
  {
   "cell_type": "code",
   "execution_count": 22,
   "metadata": {},
   "outputs": [],
   "source": [
    "recipe['ingredients_lemma'] = ingredients_recipe\n",
    "recipe['ingredients_lemma_string'] = [' '.join(_).strip() for _ in recipe['ingredients_lemma']]"
   ]
  },
  {
   "cell_type": "code",
   "execution_count": 23,
   "metadata": {},
   "outputs": [],
   "source": [
    "recipe['q ing']=recipe['ingredients_lemma'].apply(len)"
   ]
  },
  {
   "cell_type": "code",
   "execution_count": 24,
   "metadata": {},
   "outputs": [
    {
     "data": {
      "image/png": "[encoded data removed]",
      "text/plain": [
       "<Figure size 1368x720 with 1 Axes>"
      ]
     },
     "metadata": {
      "needs_background": "light"
     },
     "output_type": "display_data"
    }
   ],
   "source": [
    "plt.figure(figsize=(19,10))\n",
    "sns.boxplot(x='country food',y='q ing',data=recipe)\n",
    "plt.savefig('boxplot country.png')\n",
    "plt.show()\n"
   ]
  },
  {
   "cell_type": "code",
   "execution_count": 25,
   "metadata": {},
   "outputs": [],
   "source": [
    "recipe.to_csv(r'C:\\Users\\Mankarov\\Dropbox\\Data Science\\Desafio\\Modulo 3\\datasets ideas\\Recetas e Ingredientes\\recipe_csv')"
   ]
  },
  {
   "cell_type": "code",
   "execution_count": 26,
   "metadata": {},
   "outputs": [
    {
     "data": {
      "text/html": [
       "<div>\n",
       "<style scoped>\n",
       "    .dataframe tbody tr th:only-of-type {\n",
       "        vertical-align: middle;\n",
       "    }\n",
       "\n",
       "    .dataframe tbody tr th {\n",
       "        vertical-align: top;\n",
       "    }\n",
       "\n",
       "    .dataframe thead th {\n",
       "        text-align: right;\n",
       "    }\n",
       "</style>\n",
       "<table border=\"1\" class=\"dataframe\">\n",
       "  <thead>\n",
       "    <tr style=\"text-align: right;\">\n",
       "      <th></th>\n",
       "      <th>id</th>\n",
       "      <th>country food</th>\n",
       "      <th>ingredients</th>\n",
       "      <th>ing</th>\n",
       "      <th>ingredients_lemma</th>\n",
       "      <th>ingredients_lemma_string</th>\n",
       "      <th>q ing</th>\n",
       "    </tr>\n",
       "  </thead>\n",
       "  <tbody>\n",
       "    <tr>\n",
       "      <td>4205</td>\n",
       "      <td>486</td>\n",
       "      <td>vietnamese</td>\n",
       "      <td>[peeled fresh ginger, cooked rice, vegetable oil, green onion, kosher salt, cooked chicken breast]</td>\n",
       "      <td>peeled fresh ginger cooked rice vegetable oil green onions kosher salt cooked chicken breasts</td>\n",
       "      <td>[peeled fresh ginger, cooked rice, vegetable oil, green onion, kosher salt, cooked chicken breast]</td>\n",
       "      <td>peeled fresh ginger cooked rice vegetable oil green onion kosher salt cooked chicken breast</td>\n",
       "      <td>6</td>\n",
       "    </tr>\n",
       "    <tr>\n",
       "      <td>13652</td>\n",
       "      <td>39735</td>\n",
       "      <td>italian</td>\n",
       "      <td>[mussel, olive oil, bay leaf, squid, onion, tentacle, fennel bulb, clam juice, shrimp, cod, kosher salt, whole peeled tomato, crushed red pepper flake, country bread, fennel seed, ground black pep...</td>\n",
       "      <td>mussels olive oil bay leaves squid onions tentacles fennel bulb clam juice shrimp cod kosher salt whole peeled tomatoes crushed red pepper flakes country bread fennel seeds ground black pepper dry...</td>\n",
       "      <td>[mussel, olive oil, bay leaf, squid, onion, tentacle, fennel bulb, clam juice, shrimp, cod, kosher salt, whole peeled tomato, crushed red pepper flake, country bread, fennel seed, ground black pep...</td>\n",
       "      <td>mussel olive oil bay leaf squid onion tentacle fennel bulb clam juice shrimp cod kosher salt whole peeled tomato crushed red pepper flake country bread fennel seed ground black pepper dry white wi...</td>\n",
       "      <td>19</td>\n",
       "    </tr>\n",
       "    <tr>\n",
       "      <td>29522</td>\n",
       "      <td>1402</td>\n",
       "      <td>mexican</td>\n",
       "      <td>[granulated sugar, ground cayenne pepper, lime juice, paprika, mayonaise, butter, popped popcorn, salt]</td>\n",
       "      <td>granulated sugar ground cayenne pepper lime juice paprika mayonaise butter popped popcorn salt</td>\n",
       "      <td>[granulated sugar, ground cayenne pepper, lime juice, paprika, mayonaise, butter, popped popcorn, salt]</td>\n",
       "      <td>granulated sugar ground cayenne pepper lime juice paprika mayonaise butter popped popcorn salt</td>\n",
       "      <td>8</td>\n",
       "    </tr>\n",
       "    <tr>\n",
       "      <td>29795</td>\n",
       "      <td>4068</td>\n",
       "      <td>indian</td>\n",
       "      <td>[curry powder, sugar, ground coriander, kosher salt, ground cumin, sweet paprika]</td>\n",
       "      <td>curry powder sugar ground coriander kosher salt ground cumin sweet paprika</td>\n",
       "      <td>[curry powder, sugar, ground coriander, kosher salt, ground cumin, sweet paprika]</td>\n",
       "      <td>curry powder sugar ground coriander kosher salt ground cumin sweet paprika</td>\n",
       "      <td>6</td>\n",
       "    </tr>\n",
       "    <tr>\n",
       "      <td>34544</td>\n",
       "      <td>21289</td>\n",
       "      <td>mexican</td>\n",
       "      <td>[egg, honey, anise, sugar, baking powder, shortening, flour, water, vegetable oil]</td>\n",
       "      <td>eggs honey anise sugar baking powder shortening flour water vegetable oil</td>\n",
       "      <td>[egg, honey, anise, sugar, baking powder, shortening, flour, water, vegetable oil]</td>\n",
       "      <td>egg honey anise sugar baking powder shortening flour water vegetable oil</td>\n",
       "      <td>9</td>\n",
       "    </tr>\n",
       "    <tr>\n",
       "      <td>7828</td>\n",
       "      <td>18654</td>\n",
       "      <td>mexican</td>\n",
       "      <td>[chopped cilantro fresh, green onion, cooked chicken breast]</td>\n",
       "      <td>chopped cilantro fresh green onions cooked chicken breasts</td>\n",
       "      <td>[chopped cilantro fresh, green onion, cooked chicken breast]</td>\n",
       "      <td>chopped cilantro fresh green onion cooked chicken breast</td>\n",
       "      <td>3</td>\n",
       "    </tr>\n",
       "    <tr>\n",
       "      <td>20223</td>\n",
       "      <td>44187</td>\n",
       "      <td>thai</td>\n",
       "      <td>[basil leaf, crushed red pepper, firmly packed light brown sugar, chicken breast, red bell pepper, light soy sauce, yellow bell pepper, snow pea, lime zest, green onion, creamy peanut butter]</td>\n",
       "      <td>basil leaves crushed red pepper firmly packed light brown sugar chicken breasts red bell pepper light soy sauce yellow bell pepper snow peas lime zest green onions creamy peanut butter</td>\n",
       "      <td>[basil leaf, crushed red pepper, firmly packed light brown sugar, chicken breast, red bell pepper, light soy sauce, yellow bell pepper, snow pea, lime zest, green onion, creamy peanut butter]</td>\n",
       "      <td>basil leaf crushed red pepper firmly packed light brown sugar chicken breast red bell pepper light soy sauce yellow bell pepper snow pea lime zest green onion creamy peanut butter</td>\n",
       "      <td>11</td>\n",
       "    </tr>\n",
       "    <tr>\n",
       "      <td>2529</td>\n",
       "      <td>3543</td>\n",
       "      <td>french</td>\n",
       "      <td>[roasted red pepper, haricot verts, NiÃ oise olive, white wine vinegar, red potato, tuna packed in olive oil]</td>\n",
       "      <td>roasted red peppers haricots verts NiÃ§oise olives white wine vinegar red potato tuna packed in olive oil</td>\n",
       "      <td>[roasted red pepper, haricot verts, NiÃ oise olive, white wine vinegar, red potato, tuna packed in olive oil]</td>\n",
       "      <td>roasted red pepper haricot verts NiÃ oise olive white wine vinegar red potato tuna packed in olive oil</td>\n",
       "      <td>6</td>\n",
       "    </tr>\n",
       "    <tr>\n",
       "      <td>37265</td>\n",
       "      <td>10222</td>\n",
       "      <td>japanese</td>\n",
       "      <td>[water, rice, nori, mayonaise, rice vinegar, imitation crab meat, sugar, nori furikake, sour cream, salt, crabmeat]</td>\n",
       "      <td>water rice nori mayonaise rice vinegar imitation crab meat sugar nori furikake sour cream salt crabmeat</td>\n",
       "      <td>[water, rice, nori, mayonaise, rice vinegar, imitation crab meat, sugar, nori furikake, sour cream, salt, crabmeat]</td>\n",
       "      <td>water rice nori mayonaise rice vinegar imitation crab meat sugar nori furikake sour cream salt crabmeat</td>\n",
       "      <td>11</td>\n",
       "    </tr>\n",
       "    <tr>\n",
       "      <td>19264</td>\n",
       "      <td>10877</td>\n",
       "      <td>vietnamese</td>\n",
       "      <td>[sugar, bird chile, shredded carrot, warm water, fresh lime juice, fish sauce, garlic]</td>\n",
       "      <td>sugar bird chile shredded carrots warm water fresh lime juice fish sauce garlic</td>\n",
       "      <td>[sugar, bird chile, shredded carrot, warm water, fresh lime juice, fish sauce, garlic]</td>\n",
       "      <td>sugar bird chile shredded carrot warm water fresh lime juice fish sauce garlic</td>\n",
       "      <td>7</td>\n",
       "    </tr>\n",
       "    <tr>\n",
       "      <td>4650</td>\n",
       "      <td>45690</td>\n",
       "      <td>indian</td>\n",
       "      <td>[kosher salt, cumin seed, ground turmeric, red lentil, water, clarified butter, fresh curry leaf, long grain rice, canola oil, black peppercorn, peeled fresh ginger, chopped cilantro fresh]</td>\n",
       "      <td>kosher salt cumin seed ground turmeric red lentils water clarified butter fresh curry leaves long-grain rice canola oil black peppercorns peeled fresh ginger chopped cilantro fresh</td>\n",
       "      <td>[kosher salt, cumin seed, ground turmeric, red lentil, water, clarified butter, fresh curry leaf, long grain rice, canola oil, black peppercorn, peeled fresh ginger, chopped cilantro fresh]</td>\n",
       "      <td>kosher salt cumin seed ground turmeric red lentil water clarified butter fresh curry leaf long grain rice canola oil black peppercorn peeled fresh ginger chopped cilantro fresh</td>\n",
       "      <td>12</td>\n",
       "    </tr>\n",
       "    <tr>\n",
       "      <td>23202</td>\n",
       "      <td>137</td>\n",
       "      <td>mexican</td>\n",
       "      <td>[scallion, fresh coriander, cherry pepper, tortilla chip, avocado, fresh lemon juice]</td>\n",
       "      <td>scallions fresh coriander cherry peppers tortilla chips avocado fresh lemon juice</td>\n",
       "      <td>[scallion, fresh coriander, cherry pepper, tortilla chip, avocado, fresh lemon juice]</td>\n",
       "      <td>scallion fresh coriander cherry pepper tortilla chip avocado fresh lemon juice</td>\n",
       "      <td>6</td>\n",
       "    </tr>\n",
       "    <tr>\n",
       "      <td>7076</td>\n",
       "      <td>33194</td>\n",
       "      <td>russian</td>\n",
       "      <td>[vodka, all purpose flour, butter, hazelnut, confectioner sugar, salt]</td>\n",
       "      <td>vodka all-purpose flour butter hazelnuts confectioners sugar salt</td>\n",
       "      <td>[vodka, all purpose flour, butter, hazelnut, confectioner sugar, salt]</td>\n",
       "      <td>vodka all purpose flour butter hazelnut confectioner sugar salt</td>\n",
       "      <td>6</td>\n",
       "    </tr>\n",
       "    <tr>\n",
       "      <td>33454</td>\n",
       "      <td>2961</td>\n",
       "      <td>chinese</td>\n",
       "      <td>[brown sugar, mein, onion, green cabbage, lower sodium soy sauce, grapeseed oil, garlic powder, green onion, frozen pea, ground ginger, ground black pepper, celery]</td>\n",
       "      <td>brown sugar mein onions green cabbage lower sodium soy sauce grapeseed oil garlic powder green onions frozen peas ground ginger ground black pepper celery</td>\n",
       "      <td>[brown sugar, mein, onion, green cabbage, lower sodium soy sauce, grapeseed oil, garlic powder, green onion, frozen pea, ground ginger, ground black pepper, celery]</td>\n",
       "      <td>brown sugar mein onion green cabbage lower sodium soy sauce grapeseed oil garlic powder green onion frozen pea ground ginger ground black pepper celery</td>\n",
       "      <td>12</td>\n",
       "    </tr>\n",
       "    <tr>\n",
       "      <td>8183</td>\n",
       "      <td>14182</td>\n",
       "      <td>french</td>\n",
       "      <td>[half half, vanilla extract, vanilla bean, whipped cream, sugar, instant coffee, egg yolk, heavy cream]</td>\n",
       "      <td>half &amp; half vanilla extract vanilla beans whipped cream sugar instant coffee egg yolks heavy cream</td>\n",
       "      <td>[half half, vanilla extract, vanilla bean, whipped cream, sugar, instant coffee, egg yolk, heavy cream]</td>\n",
       "      <td>half half vanilla extract vanilla bean whipped cream sugar instant coffee egg yolk heavy cream</td>\n",
       "      <td>8</td>\n",
       "    </tr>\n",
       "    <tr>\n",
       "      <td>15522</td>\n",
       "      <td>10456</td>\n",
       "      <td>italian</td>\n",
       "      <td>[pistachio, berry, vanilla extract, grated orange, cake, confectioner sugar, mascarpone, ricotta]</td>\n",
       "      <td>pistachios berries vanilla extract grated orange cake confectioners sugar mascarpone ricotta</td>\n",
       "      <td>[pistachio, berry, vanilla extract, grated orange, cake, confectioner sugar, mascarpone, ricotta]</td>\n",
       "      <td>pistachio berry vanilla extract grated orange cake confectioner sugar mascarpone ricotta</td>\n",
       "      <td>8</td>\n",
       "    </tr>\n",
       "    <tr>\n",
       "      <td>17287</td>\n",
       "      <td>32251</td>\n",
       "      <td>chinese</td>\n",
       "      <td>[ground chicken, garlic, oyster sauce, chile sauce, sugar, lettuce leaf, peanut oil, ground white pepper, kosher salt, dried shiitake mushroom, corn starch, soy sauce, rice wine, scallion, cashew ...</td>\n",
       "      <td>ground chicken garlic oyster sauce chile sauce sugar lettuce leaves peanut oil ground white pepper kosher salt dried shiitake mushrooms corn starch soy sauce rice wine scallions cashew nuts</td>\n",
       "      <td>[ground chicken, garlic, oyster sauce, chile sauce, sugar, lettuce leaf, peanut oil, ground white pepper, kosher salt, dried shiitake mushroom, corn starch, soy sauce, rice wine, scallion, cashew ...</td>\n",
       "      <td>ground chicken garlic oyster sauce chile sauce sugar lettuce leaf peanut oil ground white pepper kosher salt dried shiitake mushroom corn starch soy sauce rice wine scallion cashew nut</td>\n",
       "      <td>15</td>\n",
       "    </tr>\n",
       "    <tr>\n",
       "      <td>29104</td>\n",
       "      <td>695</td>\n",
       "      <td>southern_us</td>\n",
       "      <td>[whole milk, salt, light brown sugar, heavy cream, butter, chopped pecan, granulated sugar, vanilla extract]</td>\n",
       "      <td>whole milk salt light brown sugar heavy cream butter chopped pecans granulated sugar vanilla extract</td>\n",
       "      <td>[whole milk, salt, light brown sugar, heavy cream, butter, chopped pecan, granulated sugar, vanilla extract]</td>\n",
       "      <td>whole milk salt light brown sugar heavy cream butter chopped pecan granulated sugar vanilla extract</td>\n",
       "      <td>8</td>\n",
       "    </tr>\n",
       "    <tr>\n",
       "      <td>3535</td>\n",
       "      <td>26198</td>\n",
       "      <td>mexican</td>\n",
       "      <td>[chicken broth, vegetable oil, guajillo chile, garlic, tomato, cheese, thin spaghetti, cream, onion]</td>\n",
       "      <td>chicken broth vegetable oil guajillo chiles garlic tomatoes cheese thin spaghetti cream onions</td>\n",
       "      <td>[chicken broth, vegetable oil, guajillo chile, garlic, tomato, cheese, thin spaghetti, cream, onion]</td>\n",
       "      <td>chicken broth vegetable oil guajillo chile garlic tomato cheese thin spaghetti cream onion</td>\n",
       "      <td>9</td>\n",
       "    </tr>\n",
       "    <tr>\n",
       "      <td>25344</td>\n",
       "      <td>28068</td>\n",
       "      <td>italian</td>\n",
       "      <td>[dried basil, ground pork, dried parsley, pepper, beef, salt, egg, parmesan cheese, garlic, dried oregano, sweet onion, ricotta cheese, marjoram leaf]</td>\n",
       "      <td>dried basil ground pork dried parsley pepper beef salt eggs parmesan cheese garlic dried oregano sweet onion ricotta cheese marjoram leaves</td>\n",
       "      <td>[dried basil, ground pork, dried parsley, pepper, beef, salt, egg, parmesan cheese, garlic, dried oregano, sweet onion, ricotta cheese, marjoram leaf]</td>\n",
       "      <td>dried basil ground pork dried parsley pepper beef salt egg parmesan cheese garlic dried oregano sweet onion ricotta cheese marjoram leaf</td>\n",
       "      <td>13</td>\n",
       "    </tr>\n",
       "    <tr>\n",
       "      <td>26988</td>\n",
       "      <td>5932</td>\n",
       "      <td>french</td>\n",
       "      <td>[olive oil, large garlic clove, cinnamon stick, Turkish bay leaf, white wine vinegar, orange zest, whole allspice, shallot, dark brown sugar, lemon zest, pink peppercorn, picholine]</td>\n",
       "      <td>olive oil large garlic cloves cinnamon sticks Turkish bay leaves white wine vinegar orange zest whole allspice shallots dark brown sugar lemon zest pink peppercorns picholine</td>\n",
       "      <td>[olive oil, large garlic clove, cinnamon stick, Turkish bay leaf, white wine vinegar, orange zest, whole allspice, shallot, dark brown sugar, lemon zest, pink peppercorn, picholine]</td>\n",
       "      <td>olive oil large garlic clove cinnamon stick Turkish bay leaf white wine vinegar orange zest whole allspice shallot dark brown sugar lemon zest pink peppercorn picholine</td>\n",
       "      <td>12</td>\n",
       "    </tr>\n",
       "    <tr>\n",
       "      <td>22987</td>\n",
       "      <td>11936</td>\n",
       "      <td>french</td>\n",
       "      <td>[water, cooking spray, black pepper, sherry vinegar, roquefort cheese, panko, beet, kosher salt, half half]</td>\n",
       "      <td>water cooking spray black pepper sherry vinegar roquefort cheese panko beets kosher salt half &amp; half</td>\n",
       "      <td>[water, cooking spray, black pepper, sherry vinegar, roquefort cheese, panko, beet, kosher salt, half half]</td>\n",
       "      <td>water cooking spray black pepper sherry vinegar roquefort cheese panko beet kosher salt half half</td>\n",
       "      <td>9</td>\n",
       "    </tr>\n",
       "    <tr>\n",
       "      <td>26262</td>\n",
       "      <td>2477</td>\n",
       "      <td>italian</td>\n",
       "      <td>[fresh rosemary, garlic, flat leaf parsley, butter, cornish hen, olive oil, canned tomato, sourdough, ground black pepper, salt, dried rosemary]</td>\n",
       "      <td>fresh rosemary garlic flat leaf parsley butter cornish hens olive oil canned tomatoes sourdough ground black pepper salt dried rosemary</td>\n",
       "      <td>[fresh rosemary, garlic, flat leaf parsley, butter, cornish hen, olive oil, canned tomato, sourdough, ground black pepper, salt, dried rosemary]</td>\n",
       "      <td>fresh rosemary garlic flat leaf parsley butter cornish hen olive oil canned tomato sourdough ground black pepper salt dried rosemary</td>\n",
       "      <td>11</td>\n",
       "    </tr>\n",
       "    <tr>\n",
       "      <td>39057</td>\n",
       "      <td>1081</td>\n",
       "      <td>mexican</td>\n",
       "      <td>[toma sauce, lean ground beef, onion, tomato, pepper, garlic, kosher salt, cilantro, ground cumin, caper, ground pepper, bay leaf]</td>\n",
       "      <td>tomato sauce lean ground beef onions tomatoes pepper garlic kosher salt cilantro ground cumin capers ground pepper bay leaf</td>\n",
       "      <td>[toma sauce, lean ground beef, onion, tomato, pepper, garlic, kosher salt, cilantro, ground cumin, caper, ground pepper, bay leaf]</td>\n",
       "      <td>toma sauce lean ground beef onion tomato pepper garlic kosher salt cilantro ground cumin caper ground pepper bay leaf</td>\n",
       "      <td>12</td>\n",
       "    </tr>\n",
       "    <tr>\n",
       "      <td>21244</td>\n",
       "      <td>18373</td>\n",
       "      <td>moroccan</td>\n",
       "      <td>[pitted date, dried apricot, all purpose unbleached flour, large egg, vegetable oil, chopped walnut, sesame seed, baking powder, salt, sugar, chopped almond, cinnamon]</td>\n",
       "      <td>pitted date dried apricot all purpose unbleached flour large eggs vegetable oil chopped walnuts sesame seeds baking powder salt sugar chopped almonds cinnamon</td>\n",
       "      <td>[pitted date, dried apricot, all purpose unbleached flour, large egg, vegetable oil, chopped walnut, sesame seed, baking powder, salt, sugar, chopped almond, cinnamon]</td>\n",
       "      <td>pitted date dried apricot all purpose unbleached flour large egg vegetable oil chopped walnut sesame seed baking powder salt sugar chopped almond cinnamon</td>\n",
       "      <td>12</td>\n",
       "    </tr>\n",
       "    <tr>\n",
       "      <td>12749</td>\n",
       "      <td>25437</td>\n",
       "      <td>thai</td>\n",
       "      <td>[cilantro root, chicken, garlic, salt, lemongrass, peppercorn]</td>\n",
       "      <td>cilantro root chicken garlic salt lemongrass peppercorns</td>\n",
       "      <td>[cilantro root, chicken, garlic, salt, lemongrass, peppercorn]</td>\n",
       "      <td>cilantro root chicken garlic salt lemongrass peppercorn</td>\n",
       "      <td>6</td>\n",
       "    </tr>\n",
       "    <tr>\n",
       "      <td>21692</td>\n",
       "      <td>5436</td>\n",
       "      <td>southern_us</td>\n",
       "      <td>[baking powder, baking soda, bacon, kosher salt, buttermilk, large egg, cornmeal]</td>\n",
       "      <td>baking powder baking soda bacon kosher salt buttermilk large eggs cornmeal</td>\n",
       "      <td>[baking powder, baking soda, bacon, kosher salt, buttermilk, large egg, cornmeal]</td>\n",
       "      <td>baking powder baking soda bacon kosher salt buttermilk large egg cornmeal</td>\n",
       "      <td>7</td>\n",
       "    </tr>\n",
       "    <tr>\n",
       "      <td>7666</td>\n",
       "      <td>33334</td>\n",
       "      <td>southern_us</td>\n",
       "      <td>[hot sauce, whipped cream cheese, mullet]</td>\n",
       "      <td>hot sauce whipped cream cheese mullet</td>\n",
       "      <td>[hot sauce, whipped cream cheese, mullet]</td>\n",
       "      <td>hot sauce whipped cream cheese mullet</td>\n",
       "      <td>3</td>\n",
       "    </tr>\n",
       "    <tr>\n",
       "      <td>29217</td>\n",
       "      <td>39144</td>\n",
       "      <td>vietnamese</td>\n",
       "      <td>[turnip, red chili pepper, oxtail, top sirloin, scallion, beef bone, hoisin sauce, vegetable oil, yellow onion, beansprouts, kaffir lime leaf, fresh ginger, rice noodle, cilantro leaf, cinnamon st...</td>\n",
       "      <td>turnips red chili peppers oxtails top sirloin scallions beef bones hoisin sauce vegetable oil yellow onion beansprouts kaffir lime leaves fresh ginger rice noodles cilantro leaves cinnamon sticks ...</td>\n",
       "      <td>[turnip, red chili pepper, oxtail, top sirloin, scallion, beef bone, hoisin sauce, vegetable oil, yellow onion, beansprouts, kaffir lime leaf, fresh ginger, rice noodle, cilantro leaf, cinnamon st...</td>\n",
       "      <td>turnip red chili pepper oxtail top sirloin scallion beef bone hoisin sauce vegetable oil yellow onion beansprouts kaffir lime leaf fresh ginger rice noodle cilantro leaf cinnamon stick clove lime ...</td>\n",
       "      <td>20</td>\n",
       "    </tr>\n",
       "    <tr>\n",
       "      <td>18000</td>\n",
       "      <td>46146</td>\n",
       "      <td>greek</td>\n",
       "      <td>[low fat greek yogurt, carrot, fresh dill, vegetable, reduced fat mayonnaise, black pepper, hot sauce, garlic powder, feta cheese crumbles]</td>\n",
       "      <td>low-fat greek yogurt carrots fresh dill vegetables reduced fat mayonnaise black pepper hot sauce garlic powder feta cheese crumbles</td>\n",
       "      <td>[low fat greek yogurt, carrot, fresh dill, vegetable, reduced fat mayonnaise, black pepper, hot sauce, garlic powder, feta cheese crumbles]</td>\n",
       "      <td>low fat greek yogurt carrot fresh dill vegetable reduced fat mayonnaise black pepper hot sauce garlic powder feta cheese crumbles</td>\n",
       "      <td>9</td>\n",
       "    </tr>\n",
       "  </tbody>\n",
       "</table>\n",
       "</div>"
      ],
      "text/plain": [
       "          id country food  \\\n",
       "4205     486   vietnamese   \n",
       "13652  39735      italian   \n",
       "29522   1402      mexican   \n",
       "29795   4068       indian   \n",
       "34544  21289      mexican   \n",
       "7828   18654      mexican   \n",
       "20223  44187         thai   \n",
       "2529    3543       french   \n",
       "37265  10222     japanese   \n",
       "19264  10877   vietnamese   \n",
       "4650   45690       indian   \n",
       "23202    137      mexican   \n",
       "7076   33194      russian   \n",
       "33454   2961      chinese   \n",
       "8183   14182       french   \n",
       "15522  10456      italian   \n",
       "17287  32251      chinese   \n",
       "29104    695  southern_us   \n",
       "3535   26198      mexican   \n",
       "25344  28068      italian   \n",
       "26988   5932       french   \n",
       "22987  11936       french   \n",
       "26262   2477      italian   \n",
       "39057   1081      mexican   \n",
       "21244  18373     moroccan   \n",
       "12749  25437         thai   \n",
       "21692   5436  southern_us   \n",
       "7666   33334  southern_us   \n",
       "29217  39144   vietnamese   \n",
       "18000  46146        greek   \n",
       "\n",
       "                                                                                                                                                                                                   ingredients  \\\n",
       "4205                                                                                                        [peeled fresh ginger, cooked rice, vegetable oil, green onion, kosher salt, cooked chicken breast]   \n",
       "13652  [mussel, olive oil, bay leaf, squid, onion, tentacle, fennel bulb, clam juice, shrimp, cod, kosher salt, whole peeled tomato, crushed red pepper flake, country bread, fennel seed, ground black pep...   \n",
       "29522                                                                                                  [granulated sugar, ground cayenne pepper, lime juice, paprika, mayonaise, butter, popped popcorn, salt]   \n",
       "29795                                                                                                                        [curry powder, sugar, ground coriander, kosher salt, ground cumin, sweet paprika]   \n",
       "34544                                                                                                                       [egg, honey, anise, sugar, baking powder, shortening, flour, water, vegetable oil]   \n",
       "7828                                                                                                                                              [chopped cilantro fresh, green onion, cooked chicken breast]   \n",
       "20223          [basil leaf, crushed red pepper, firmly packed light brown sugar, chicken breast, red bell pepper, light soy sauce, yellow bell pepper, snow pea, lime zest, green onion, creamy peanut butter]   \n",
       "2529                                                                                             [roasted red pepper, haricot verts, NiÃ oise olive, white wine vinegar, red potato, tuna packed in olive oil]   \n",
       "37265                                                                                      [water, rice, nori, mayonaise, rice vinegar, imitation crab meat, sugar, nori furikake, sour cream, salt, crabmeat]   \n",
       "19264                                                                                                                   [sugar, bird chile, shredded carrot, warm water, fresh lime juice, fish sauce, garlic]   \n",
       "4650             [kosher salt, cumin seed, ground turmeric, red lentil, water, clarified butter, fresh curry leaf, long grain rice, canola oil, black peppercorn, peeled fresh ginger, chopped cilantro fresh]   \n",
       "23202                                                                                                                    [scallion, fresh coriander, cherry pepper, tortilla chip, avocado, fresh lemon juice]   \n",
       "7076                                                                                                                                    [vodka, all purpose flour, butter, hazelnut, confectioner sugar, salt]   \n",
       "33454                                     [brown sugar, mein, onion, green cabbage, lower sodium soy sauce, grapeseed oil, garlic powder, green onion, frozen pea, ground ginger, ground black pepper, celery]   \n",
       "8183                                                                                                   [half half, vanilla extract, vanilla bean, whipped cream, sugar, instant coffee, egg yolk, heavy cream]   \n",
       "15522                                                                                                        [pistachio, berry, vanilla extract, grated orange, cake, confectioner sugar, mascarpone, ricotta]   \n",
       "17287  [ground chicken, garlic, oyster sauce, chile sauce, sugar, lettuce leaf, peanut oil, ground white pepper, kosher salt, dried shiitake mushroom, corn starch, soy sauce, rice wine, scallion, cashew ...   \n",
       "29104                                                                                             [whole milk, salt, light brown sugar, heavy cream, butter, chopped pecan, granulated sugar, vanilla extract]   \n",
       "3535                                                                                                      [chicken broth, vegetable oil, guajillo chile, garlic, tomato, cheese, thin spaghetti, cream, onion]   \n",
       "25344                                                   [dried basil, ground pork, dried parsley, pepper, beef, salt, egg, parmesan cheese, garlic, dried oregano, sweet onion, ricotta cheese, marjoram leaf]   \n",
       "26988                    [olive oil, large garlic clove, cinnamon stick, Turkish bay leaf, white wine vinegar, orange zest, whole allspice, shallot, dark brown sugar, lemon zest, pink peppercorn, picholine]   \n",
       "22987                                                                                              [water, cooking spray, black pepper, sherry vinegar, roquefort cheese, panko, beet, kosher salt, half half]   \n",
       "26262                                                         [fresh rosemary, garlic, flat leaf parsley, butter, cornish hen, olive oil, canned tomato, sourdough, ground black pepper, salt, dried rosemary]   \n",
       "39057                                                                       [toma sauce, lean ground beef, onion, tomato, pepper, garlic, kosher salt, cilantro, ground cumin, caper, ground pepper, bay leaf]   \n",
       "21244                                  [pitted date, dried apricot, all purpose unbleached flour, large egg, vegetable oil, chopped walnut, sesame seed, baking powder, salt, sugar, chopped almond, cinnamon]   \n",
       "12749                                                                                                                                           [cilantro root, chicken, garlic, salt, lemongrass, peppercorn]   \n",
       "21692                                                                                                                        [baking powder, baking soda, bacon, kosher salt, buttermilk, large egg, cornmeal]   \n",
       "7666                                                                                                                                                                 [hot sauce, whipped cream cheese, mullet]   \n",
       "29217  [turnip, red chili pepper, oxtail, top sirloin, scallion, beef bone, hoisin sauce, vegetable oil, yellow onion, beansprouts, kaffir lime leaf, fresh ginger, rice noodle, cilantro leaf, cinnamon st...   \n",
       "18000                                                              [low fat greek yogurt, carrot, fresh dill, vegetable, reduced fat mayonnaise, black pepper, hot sauce, garlic powder, feta cheese crumbles]   \n",
       "\n",
       "                                                                                                                                                                                                           ing  \\\n",
       "4205                                                                                                             peeled fresh ginger cooked rice vegetable oil green onions kosher salt cooked chicken breasts   \n",
       "13652  mussels olive oil bay leaves squid onions tentacles fennel bulb clam juice shrimp cod kosher salt whole peeled tomatoes crushed red pepper flakes country bread fennel seeds ground black pepper dry...   \n",
       "29522                                                                                                           granulated sugar ground cayenne pepper lime juice paprika mayonaise butter popped popcorn salt   \n",
       "29795                                                                                                                               curry powder sugar ground coriander kosher salt ground cumin sweet paprika   \n",
       "34544                                                                                                                                eggs honey anise sugar baking powder shortening flour water vegetable oil   \n",
       "7828                                                                                                                                                chopped cilantro fresh green onions cooked chicken breasts   \n",
       "20223                 basil leaves crushed red pepper firmly packed light brown sugar chicken breasts red bell pepper light soy sauce yellow bell pepper snow peas lime zest green onions creamy peanut butter   \n",
       "2529                                                                                                 roasted red peppers haricots verts NiÃ§oise olives white wine vinegar red potato tuna packed in olive oil   \n",
       "37265                                                                                                  water rice nori mayonaise rice vinegar imitation crab meat sugar nori furikake sour cream salt crabmeat   \n",
       "19264                                                                                                                          sugar bird chile shredded carrots warm water fresh lime juice fish sauce garlic   \n",
       "4650                      kosher salt cumin seed ground turmeric red lentils water clarified butter fresh curry leaves long-grain rice canola oil black peppercorns peeled fresh ginger chopped cilantro fresh   \n",
       "23202                                                                                                                        scallions fresh coriander cherry peppers tortilla chips avocado fresh lemon juice   \n",
       "7076                                                                                                                                         vodka all-purpose flour butter hazelnuts confectioners sugar salt   \n",
       "33454                                               brown sugar mein onions green cabbage lower sodium soy sauce grapeseed oil garlic powder green onions frozen peas ground ginger ground black pepper celery   \n",
       "8183                                                                                                        half & half vanilla extract vanilla beans whipped cream sugar instant coffee egg yolks heavy cream   \n",
       "15522                                                                                                             pistachios berries vanilla extract grated orange cake confectioners sugar mascarpone ricotta   \n",
       "17287            ground chicken garlic oyster sauce chile sauce sugar lettuce leaves peanut oil ground white pepper kosher salt dried shiitake mushrooms corn starch soy sauce rice wine scallions cashew nuts   \n",
       "29104                                                                                                     whole milk salt light brown sugar heavy cream butter chopped pecans granulated sugar vanilla extract   \n",
       "3535                                                                                                            chicken broth vegetable oil guajillo chiles garlic tomatoes cheese thin spaghetti cream onions   \n",
       "25344                                                              dried basil ground pork dried parsley pepper beef salt eggs parmesan cheese garlic dried oregano sweet onion ricotta cheese marjoram leaves   \n",
       "26988                           olive oil large garlic cloves cinnamon sticks Turkish bay leaves white wine vinegar orange zest whole allspice shallots dark brown sugar lemon zest pink peppercorns picholine   \n",
       "22987                                                                                                     water cooking spray black pepper sherry vinegar roquefort cheese panko beets kosher salt half & half   \n",
       "26262                                                                  fresh rosemary garlic flat leaf parsley butter cornish hens olive oil canned tomatoes sourdough ground black pepper salt dried rosemary   \n",
       "39057                                                                              tomato sauce lean ground beef onions tomatoes pepper garlic kosher salt cilantro ground cumin capers ground pepper bay leaf   \n",
       "21244                                           pitted date dried apricot all purpose unbleached flour large eggs vegetable oil chopped walnuts sesame seeds baking powder salt sugar chopped almonds cinnamon   \n",
       "12749                                                                                                                                                 cilantro root chicken garlic salt lemongrass peppercorns   \n",
       "21692                                                                                                                               baking powder baking soda bacon kosher salt buttermilk large eggs cornmeal   \n",
       "7666                                                                                                                                                                     hot sauce whipped cream cheese mullet   \n",
       "29217  turnips red chili peppers oxtails top sirloin scallions beef bones hoisin sauce vegetable oil yellow onion beansprouts kaffir lime leaves fresh ginger rice noodles cilantro leaves cinnamon sticks ...   \n",
       "18000                                                                      low-fat greek yogurt carrots fresh dill vegetables reduced fat mayonnaise black pepper hot sauce garlic powder feta cheese crumbles   \n",
       "\n",
       "                                                                                                                                                                                             ingredients_lemma  \\\n",
       "4205                                                                                                        [peeled fresh ginger, cooked rice, vegetable oil, green onion, kosher salt, cooked chicken breast]   \n",
       "13652  [mussel, olive oil, bay leaf, squid, onion, tentacle, fennel bulb, clam juice, shrimp, cod, kosher salt, whole peeled tomato, crushed red pepper flake, country bread, fennel seed, ground black pep...   \n",
       "29522                                                                                                  [granulated sugar, ground cayenne pepper, lime juice, paprika, mayonaise, butter, popped popcorn, salt]   \n",
       "29795                                                                                                                        [curry powder, sugar, ground coriander, kosher salt, ground cumin, sweet paprika]   \n",
       "34544                                                                                                                       [egg, honey, anise, sugar, baking powder, shortening, flour, water, vegetable oil]   \n",
       "7828                                                                                                                                              [chopped cilantro fresh, green onion, cooked chicken breast]   \n",
       "20223          [basil leaf, crushed red pepper, firmly packed light brown sugar, chicken breast, red bell pepper, light soy sauce, yellow bell pepper, snow pea, lime zest, green onion, creamy peanut butter]   \n",
       "2529                                                                                             [roasted red pepper, haricot verts, NiÃ oise olive, white wine vinegar, red potato, tuna packed in olive oil]   \n",
       "37265                                                                                      [water, rice, nori, mayonaise, rice vinegar, imitation crab meat, sugar, nori furikake, sour cream, salt, crabmeat]   \n",
       "19264                                                                                                                   [sugar, bird chile, shredded carrot, warm water, fresh lime juice, fish sauce, garlic]   \n",
       "4650             [kosher salt, cumin seed, ground turmeric, red lentil, water, clarified butter, fresh curry leaf, long grain rice, canola oil, black peppercorn, peeled fresh ginger, chopped cilantro fresh]   \n",
       "23202                                                                                                                    [scallion, fresh coriander, cherry pepper, tortilla chip, avocado, fresh lemon juice]   \n",
       "7076                                                                                                                                    [vodka, all purpose flour, butter, hazelnut, confectioner sugar, salt]   \n",
       "33454                                     [brown sugar, mein, onion, green cabbage, lower sodium soy sauce, grapeseed oil, garlic powder, green onion, frozen pea, ground ginger, ground black pepper, celery]   \n",
       "8183                                                                                                   [half half, vanilla extract, vanilla bean, whipped cream, sugar, instant coffee, egg yolk, heavy cream]   \n",
       "15522                                                                                                        [pistachio, berry, vanilla extract, grated orange, cake, confectioner sugar, mascarpone, ricotta]   \n",
       "17287  [ground chicken, garlic, oyster sauce, chile sauce, sugar, lettuce leaf, peanut oil, ground white pepper, kosher salt, dried shiitake mushroom, corn starch, soy sauce, rice wine, scallion, cashew ...   \n",
       "29104                                                                                             [whole milk, salt, light brown sugar, heavy cream, butter, chopped pecan, granulated sugar, vanilla extract]   \n",
       "3535                                                                                                      [chicken broth, vegetable oil, guajillo chile, garlic, tomato, cheese, thin spaghetti, cream, onion]   \n",
       "25344                                                   [dried basil, ground pork, dried parsley, pepper, beef, salt, egg, parmesan cheese, garlic, dried oregano, sweet onion, ricotta cheese, marjoram leaf]   \n",
       "26988                    [olive oil, large garlic clove, cinnamon stick, Turkish bay leaf, white wine vinegar, orange zest, whole allspice, shallot, dark brown sugar, lemon zest, pink peppercorn, picholine]   \n",
       "22987                                                                                              [water, cooking spray, black pepper, sherry vinegar, roquefort cheese, panko, beet, kosher salt, half half]   \n",
       "26262                                                         [fresh rosemary, garlic, flat leaf parsley, butter, cornish hen, olive oil, canned tomato, sourdough, ground black pepper, salt, dried rosemary]   \n",
       "39057                                                                       [toma sauce, lean ground beef, onion, tomato, pepper, garlic, kosher salt, cilantro, ground cumin, caper, ground pepper, bay leaf]   \n",
       "21244                                  [pitted date, dried apricot, all purpose unbleached flour, large egg, vegetable oil, chopped walnut, sesame seed, baking powder, salt, sugar, chopped almond, cinnamon]   \n",
       "12749                                                                                                                                           [cilantro root, chicken, garlic, salt, lemongrass, peppercorn]   \n",
       "21692                                                                                                                        [baking powder, baking soda, bacon, kosher salt, buttermilk, large egg, cornmeal]   \n",
       "7666                                                                                                                                                                 [hot sauce, whipped cream cheese, mullet]   \n",
       "29217  [turnip, red chili pepper, oxtail, top sirloin, scallion, beef bone, hoisin sauce, vegetable oil, yellow onion, beansprouts, kaffir lime leaf, fresh ginger, rice noodle, cilantro leaf, cinnamon st...   \n",
       "18000                                                              [low fat greek yogurt, carrot, fresh dill, vegetable, reduced fat mayonnaise, black pepper, hot sauce, garlic powder, feta cheese crumbles]   \n",
       "\n",
       "                                                                                                                                                                                      ingredients_lemma_string  \\\n",
       "4205                                                                                                               peeled fresh ginger cooked rice vegetable oil green onion kosher salt cooked chicken breast   \n",
       "13652  mussel olive oil bay leaf squid onion tentacle fennel bulb clam juice shrimp cod kosher salt whole peeled tomato crushed red pepper flake country bread fennel seed ground black pepper dry white wi...   \n",
       "29522                                                                                                           granulated sugar ground cayenne pepper lime juice paprika mayonaise butter popped popcorn salt   \n",
       "29795                                                                                                                               curry powder sugar ground coriander kosher salt ground cumin sweet paprika   \n",
       "34544                                                                                                                                 egg honey anise sugar baking powder shortening flour water vegetable oil   \n",
       "7828                                                                                                                                                  chopped cilantro fresh green onion cooked chicken breast   \n",
       "20223                      basil leaf crushed red pepper firmly packed light brown sugar chicken breast red bell pepper light soy sauce yellow bell pepper snow pea lime zest green onion creamy peanut butter   \n",
       "2529                                                                                                    roasted red pepper haricot verts NiÃ oise olive white wine vinegar red potato tuna packed in olive oil   \n",
       "37265                                                                                                  water rice nori mayonaise rice vinegar imitation crab meat sugar nori furikake sour cream salt crabmeat   \n",
       "19264                                                                                                                           sugar bird chile shredded carrot warm water fresh lime juice fish sauce garlic   \n",
       "4650                          kosher salt cumin seed ground turmeric red lentil water clarified butter fresh curry leaf long grain rice canola oil black peppercorn peeled fresh ginger chopped cilantro fresh   \n",
       "23202                                                                                                                           scallion fresh coriander cherry pepper tortilla chip avocado fresh lemon juice   \n",
       "7076                                                                                                                                           vodka all purpose flour butter hazelnut confectioner sugar salt   \n",
       "33454                                                  brown sugar mein onion green cabbage lower sodium soy sauce grapeseed oil garlic powder green onion frozen pea ground ginger ground black pepper celery   \n",
       "8183                                                                                                            half half vanilla extract vanilla bean whipped cream sugar instant coffee egg yolk heavy cream   \n",
       "15522                                                                                                                 pistachio berry vanilla extract grated orange cake confectioner sugar mascarpone ricotta   \n",
       "17287                 ground chicken garlic oyster sauce chile sauce sugar lettuce leaf peanut oil ground white pepper kosher salt dried shiitake mushroom corn starch soy sauce rice wine scallion cashew nut   \n",
       "29104                                                                                                      whole milk salt light brown sugar heavy cream butter chopped pecan granulated sugar vanilla extract   \n",
       "3535                                                                                                                chicken broth vegetable oil guajillo chile garlic tomato cheese thin spaghetti cream onion   \n",
       "25344                                                                 dried basil ground pork dried parsley pepper beef salt egg parmesan cheese garlic dried oregano sweet onion ricotta cheese marjoram leaf   \n",
       "26988                                 olive oil large garlic clove cinnamon stick Turkish bay leaf white wine vinegar orange zest whole allspice shallot dark brown sugar lemon zest pink peppercorn picholine   \n",
       "22987                                                                                                        water cooking spray black pepper sherry vinegar roquefort cheese panko beet kosher salt half half   \n",
       "26262                                                                     fresh rosemary garlic flat leaf parsley butter cornish hen olive oil canned tomato sourdough ground black pepper salt dried rosemary   \n",
       "39057                                                                                    toma sauce lean ground beef onion tomato pepper garlic kosher salt cilantro ground cumin caper ground pepper bay leaf   \n",
       "21244                                               pitted date dried apricot all purpose unbleached flour large egg vegetable oil chopped walnut sesame seed baking powder salt sugar chopped almond cinnamon   \n",
       "12749                                                                                                                                                  cilantro root chicken garlic salt lemongrass peppercorn   \n",
       "21692                                                                                                                                baking powder baking soda bacon kosher salt buttermilk large egg cornmeal   \n",
       "7666                                                                                                                                                                     hot sauce whipped cream cheese mullet   \n",
       "29217  turnip red chili pepper oxtail top sirloin scallion beef bone hoisin sauce vegetable oil yellow onion beansprouts kaffir lime leaf fresh ginger rice noodle cilantro leaf cinnamon stick clove lime ...   \n",
       "18000                                                                        low fat greek yogurt carrot fresh dill vegetable reduced fat mayonnaise black pepper hot sauce garlic powder feta cheese crumbles   \n",
       "\n",
       "       q ing  \n",
       "4205       6  \n",
       "13652     19  \n",
       "29522      8  \n",
       "29795      6  \n",
       "34544      9  \n",
       "7828       3  \n",
       "20223     11  \n",
       "2529       6  \n",
       "37265     11  \n",
       "19264      7  \n",
       "4650      12  \n",
       "23202      6  \n",
       "7076       6  \n",
       "33454     12  \n",
       "8183       8  \n",
       "15522      8  \n",
       "17287     15  \n",
       "29104      8  \n",
       "3535       9  \n",
       "25344     13  \n",
       "26988     12  \n",
       "22987      9  \n",
       "26262     11  \n",
       "39057     12  \n",
       "21244     12  \n",
       "12749      6  \n",
       "21692      7  \n",
       "7666       3  \n",
       "29217     20  \n",
       "18000      9  "
      ]
     },
     "execution_count": 26,
     "metadata": {},
     "output_type": "execute_result"
    }
   ],
   "source": [
    "recipe.sample(30)"
   ]
  },
  {
   "cell_type": "code",
   "execution_count": 27,
   "metadata": {},
   "outputs": [],
   "source": [
    "train, test,= train_test_split(recipe, test_size = 0.2, random_state = 42)"
   ]
  },
  {
   "cell_type": "code",
   "execution_count": 28,
   "metadata": {},
   "outputs": [],
   "source": [
    "#train.to_csv(r'C:\\Users\\Mankarov\\Dropbox\\Data Science\\Desafio\\Modulo 3\\datasets ideas\\Recetas e Ingredientes\\train_recipe_csv')"
   ]
  },
  {
   "cell_type": "code",
   "execution_count": 29,
   "metadata": {},
   "outputs": [],
   "source": [
    "X_train=train[['ingredients_lemma_string']]"
   ]
  },
  {
   "cell_type": "code",
   "execution_count": 30,
   "metadata": {},
   "outputs": [],
   "source": [
    "X_test=test[['ingredients_lemma_string']]"
   ]
  },
  {
   "cell_type": "code",
   "execution_count": 31,
   "metadata": {},
   "outputs": [
    {
     "name": "stdout",
     "output_type": "stream",
     "text": [
      "(31819, 1)\n",
      "(7955, 1)\n"
     ]
    }
   ],
   "source": [
    "print(X_train.shape)\n",
    "print(X_test.shape)"
   ]
  },
  {
   "cell_type": "code",
   "execution_count": 32,
   "metadata": {},
   "outputs": [],
   "source": [
    "from sklearn import preprocessing\n",
    "lenc = preprocessing.LabelEncoder()\n",
    "lenc.fit(train['country food'])\n",
    "y_train=lenc.transform(train['country food'])\n",
    "y_test=lenc.transform(test['country food'])"
   ]
  },
  {
   "cell_type": "code",
   "execution_count": 33,
   "metadata": {},
   "outputs": [
    {
     "name": "stdout",
     "output_type": "stream",
     "text": [
      "(31819,)\n",
      "(7955,)\n"
     ]
    }
   ],
   "source": [
    "print(y_train.shape)\n",
    "print(y_test.shape)"
   ]
  },
  {
   "cell_type": "code",
   "execution_count": 34,
   "metadata": {},
   "outputs": [],
   "source": [
    "from sklearn.feature_extraction.text import TfidfVectorizer\n"
   ]
  },
  {
   "cell_type": "code",
   "execution_count": 35,
   "metadata": {},
   "outputs": [],
   "source": [
    "vectorizer = TfidfVectorizer(stop_words='english', analyzer=\"word\", max_df=0.65, min_df=2,binary=True)\n",
    "X_train_v= vectorizer.fit_transform(X_train['ingredients_lemma_string'])\n"
   ]
  },
  {
   "cell_type": "code",
   "execution_count": 36,
   "metadata": {},
   "outputs": [
    {
     "name": "stdout",
     "output_type": "stream",
     "text": [
      "(31819, 2129)\n"
     ]
    }
   ],
   "source": [
    "print(X_train_v.shape)"
   ]
  },
  {
   "cell_type": "code",
   "execution_count": null,
   "metadata": {},
   "outputs": [],
   "source": [
    "\n"
   ]
  },
  {
   "cell_type": "code",
   "execution_count": 37,
   "metadata": {},
   "outputs": [],
   "source": [
    "features_df=pd.DataFrame(vectorizer.get_feature_names())"
   ]
  },
  {
   "cell_type": "code",
   "execution_count": 38,
   "metadata": {},
   "outputs": [
    {
     "data": {
      "text/html": [
       "<div>\n",
       "<style scoped>\n",
       "    .dataframe tbody tr th:only-of-type {\n",
       "        vertical-align: middle;\n",
       "    }\n",
       "\n",
       "    .dataframe tbody tr th {\n",
       "        vertical-align: top;\n",
       "    }\n",
       "\n",
       "    .dataframe thead th {\n",
       "        text-align: right;\n",
       "    }\n",
       "</style>\n",
       "<table border=\"1\" class=\"dataframe\">\n",
       "  <thead>\n",
       "    <tr style=\"text-align: right;\">\n",
       "      <th></th>\n",
       "      <th>0</th>\n",
       "    </tr>\n",
       "  </thead>\n",
       "  <tbody>\n",
       "    <tr>\n",
       "      <td>0</td>\n",
       "      <td>abalone</td>\n",
       "    </tr>\n",
       "    <tr>\n",
       "      <td>1</td>\n",
       "      <td>abura</td>\n",
       "    </tr>\n",
       "    <tr>\n",
       "      <td>2</td>\n",
       "      <td>acai</td>\n",
       "    </tr>\n",
       "    <tr>\n",
       "      <td>3</td>\n",
       "      <td>accent</td>\n",
       "    </tr>\n",
       "    <tr>\n",
       "      <td>4</td>\n",
       "      <td>achiote</td>\n",
       "    </tr>\n",
       "  </tbody>\n",
       "</table>\n",
       "</div>"
      ],
      "text/plain": [
       "         0\n",
       "0  abalone\n",
       "1    abura\n",
       "2     acai\n",
       "3   accent\n",
       "4  achiote"
      ]
     },
     "execution_count": 38,
     "metadata": {},
     "output_type": "execute_result"
    }
   ],
   "source": [
    "features_df.head()"
   ]
  },
  {
   "cell_type": "markdown",
   "metadata": {},
   "source": [
    "# Modelo 1 : kNN Classifier"
   ]
  },
  {
   "cell_type": "code",
   "execution_count": null,
   "metadata": {},
   "outputs": [],
   "source": [
    "k_scores=[]\n",
    "for K in range(50):\n",
    "    K_value = K+1\n",
    "    neigh = KNeighborsClassifier(n_neighbors = K_value, weights='uniform', algorithm='auto',n_jobs=-1)\n",
    "    neigh.fit(X_train_v, y_train) \n",
    "    scores = cross_val_score(neigh, X_train_v, y_train, cv=5, scoring='accuracy')\n",
    "    y_pred = neigh.predict(X_train_v)\n",
    "    k_scores.append(scores.mean())\n",
    "    print(\"Accuracy is \", scores.mean()*100,\"% for K-Value:\",K_value)"
   ]
  },
  {
   "cell_type": "code",
   "execution_count": null,
   "metadata": {},
   "outputs": [],
   "source": [
    "kscoresdf=pd.DataFrame(k_scores)"
   ]
  },
  {
   "cell_type": "code",
   "execution_count": null,
   "metadata": {},
   "outputs": [],
   "source": [
    "kscoresdf.rename(columns=({0:'Accuracy'}),inplace=True)\n"
   ]
  },
  {
   "cell_type": "code",
   "execution_count": null,
   "metadata": {},
   "outputs": [],
   "source": [
    "kscoresdf['K']=kscoresdf.index+1"
   ]
  },
  {
   "cell_type": "code",
   "execution_count": null,
   "metadata": {},
   "outputs": [],
   "source": [
    "kscoresdf.sort_values(by='Accuracy',ascending=False)"
   ]
  },
  {
   "cell_type": "code",
   "execution_count": null,
   "metadata": {},
   "outputs": [],
   "source": [
    "kscoresdf.to_csv(r'C:\\Users\\Mankarov\\Dropbox\\Data Science\\Desafio\\Modulo 3\\datasets ideas\\Recetas e Ingredientes\\K_Accuracy_lem.csv')"
   ]
  },
  {
   "cell_type": "code",
   "execution_count": null,
   "metadata": {},
   "outputs": [],
   "source": [
    "sns.lmplot('K','Accuracy',data=kscoresdf,fit_reg=False,height=15)\n",
    "plt.title('Accucary in Val Set')\n",
    "#plt.savefig(r'C:\\Users\\Mankarov\\Dropbox\\Data Science\\Desafio\\Modulo 3\\datasets ideas\\Recetas e Ingredientes\\K_Accuracy.png')\n",
    "#plt.ylim(-0.005,0)"
   ]
  },
  {
   "cell_type": "markdown",
   "metadata": {},
   "source": [
    "# Modelo 2 : Regresion Logistica"
   ]
  },
  {
   "cell_type": "code",
   "execution_count": 39,
   "metadata": {},
   "outputs": [],
   "source": [
    "from sklearn.linear_model import LogisticRegression"
   ]
  },
  {
   "cell_type": "code",
   "execution_count": 40,
   "metadata": {},
   "outputs": [
    {
     "name": "stdout",
     "output_type": "stream",
     "text": [
      "Cv Accuracy scores:  [0.77953868 0.77603267 0.78123527 0.7831761  0.77894902]\n",
      "Mean of Accuracy is  77.97863477608641\n",
      "Std of Accuracy is  0.2385051284969491\n"
     ]
    }
   ],
   "source": [
    "log=LogisticRegression(multi_class='auto',solver='lbfgs',max_iter=500,n_jobs=-1)\n",
    "log.fit(X_train_v, y_train) \n",
    "scores = cross_val_score(log, X_train_v, y_train, cv=5, scoring='accuracy')\n",
    "y_pred_log = log.predict(X_train_v)\n",
    "print('Cv Accuracy scores: ',scores)\n",
    "print(\"Mean of Accuracy is \", scores.mean()*100)\n",
    "print(\"Std of Accuracy is \", scores.std()*100)"
   ]
  },
  {
   "cell_type": "markdown",
   "metadata": {},
   "source": [
    "# Modelo 3: Multinomial Naive Bayes Classifier"
   ]
  },
  {
   "cell_type": "code",
   "execution_count": 41,
   "metadata": {},
   "outputs": [
    {
     "name": "stdout",
     "output_type": "stream",
     "text": [
      "Cv Accuracy scores:  [0.67550604 0.67268729 0.67939651 0.68380503 0.6749528 ]\n",
      "Mean of Accuracy is  67.72695355999157\n",
      "Std of Accuracy is  0.3916908075130887\n"
     ]
    }
   ],
   "source": [
    "nb=MultinomialNB()\n",
    "nb.fit(X_train_v, y_train) \n",
    "scores = cross_val_score(nb, X_train_v, y_train, cv=5, scoring='accuracy')\n",
    "y_pred_nb = nb.predict(X_train_v)\n",
    "print('Cv Accuracy scores: ',scores)\n",
    "print(\"Mean of Accuracy is \", scores.mean()*100)\n",
    "print(\"Std of Accuracy is \", scores.std()*100)"
   ]
  },
  {
   "cell_type": "markdown",
   "metadata": {},
   "source": [
    "# Modelo 4: SVM "
   ]
  },
  {
   "cell_type": "code",
   "execution_count": null,
   "metadata": {},
   "outputs": [],
   "source": [
    "\n"
   ]
  },
  {
   "cell_type": "code",
   "execution_count": null,
   "metadata": {},
   "outputs": [],
   "source": []
  },
  {
   "cell_type": "code",
   "execution_count": null,
   "metadata": {},
   "outputs": [],
   "source": []
  },
  {
   "cell_type": "code",
   "execution_count": null,
   "metadata": {},
   "outputs": [],
   "source": [
    "X_test_v= vectorizer.transform(X_test['ingredients_lemma_string'])\n"
   ]
  },
  {
   "cell_type": "markdown",
   "metadata": {},
   "source": [
    "# Mejor Modelo en Test"
   ]
  },
  {
   "cell_type": "code",
   "execution_count": null,
   "metadata": {},
   "outputs": [],
   "source": [
    "y_test_pred=log.predict(X_test_v)\n",
    "print(\"Accuracy: \",accuracy_score(y_test,y_test_pred)*100)\n",
    "print(\"Precision Score: \",precision_score(y_test, y_test_pred, average='macro')*100)\n",
    "print(\"Recall Score: \",recall_score(y_test, y_test_pred, average='macro')*100)\n",
    "print(\"F1 Score: \",f1_score(y_test, y_test_pred, average='macro')*100)\n"
   ]
  },
  {
   "cell_type": "code",
   "execution_count": null,
   "metadata": {},
   "outputs": [],
   "source": [
    "y_prob_test=log.predict_proba(X_test_v)"
   ]
  },
  {
   "cell_type": "code",
   "execution_count": null,
   "metadata": {},
   "outputs": [],
   "source": [
    "prob_test=pd.DataFrame(y_prob_test)"
   ]
  },
  {
   "cell_type": "code",
   "execution_count": null,
   "metadata": {},
   "outputs": [],
   "source": []
  },
  {
   "cell_type": "code",
   "execution_count": null,
   "metadata": {},
   "outputs": [],
   "source": [
    "prob_test.rename(columns={0:'brazilian', 1:'british', 2:'cajun_creole', 3:'chinese', 4:'filipino', 5:'french', 6:'greek', 7:'indian', \n",
    "                            8:'irish', 9:'italian', 10:'jamaican', 11:'japanese',\n",
    "                            12:'korean', 13:'mexican', 14:'moroccan', \n",
    "                            15:'russian', 16:'southern_us', 17:'spanish', \n",
    "                            18:'thai',19:'vietnamese'},inplace=True)"
   ]
  },
  {
   "cell_type": "code",
   "execution_count": null,
   "metadata": {},
   "outputs": [],
   "source": [
    "test_reset=test.reset_index()"
   ]
  },
  {
   "cell_type": "code",
   "execution_count": null,
   "metadata": {},
   "outputs": [],
   "source": [
    "test_reset"
   ]
  },
  {
   "cell_type": "code",
   "execution_count": null,
   "metadata": {},
   "outputs": [],
   "source": [
    "prob_test['y_test']=test_reset['country food']\n",
    "prob_test"
   ]
  },
  {
   "cell_type": "code",
   "execution_count": null,
   "metadata": {},
   "outputs": [],
   "source": [
    "label_t"
   ]
  },
  {
   "cell_type": "code",
   "execution_count": null,
   "metadata": {},
   "outputs": [],
   "source": [
    "label_t_p=list(set(label_t_p))"
   ]
  },
  {
   "cell_type": "code",
   "execution_count": null,
   "metadata": {},
   "outputs": [],
   "source": []
  },
  {
   "cell_type": "code",
   "execution_count": null,
   "metadata": {},
   "outputs": [],
   "source": [
    "import scikitplot as skplt \n",
    "label_t=lenc.inverse_transform(y_test)\n",
    "label_t_p=lenc.inverse_transform(y_test_pred)\n",
    "skplt.metrics.plot_confusion_matrix(y_test, y_test_pred, normalize=True,figsize=(15,15),cmap='Reds')\n",
    "plt.title('Normalized Confusion Matrix')\n",
    "plt.savefig(r'C:\\Users\\Mankarov\\Dropbox\\Data Science\\Desafio\\Modulo 3\\datasets ideas\\Recetas e Ingredientes\\confusion_matrix.png')\n",
    "plt.show()"
   ]
  },
  {
   "cell_type": "code",
   "execution_count": null,
   "metadata": {},
   "outputs": [],
   "source": [
    "probas=log.predict_proba(X_test_v)\n",
    "skplt.metrics.plot_precision_recall(y_test, probas,figsize=(15,15))"
   ]
  },
  {
   "cell_type": "code",
   "execution_count": null,
   "metadata": {},
   "outputs": [],
   "source": [
    "skplt.metrics.plot_roc(y_test, probas,classes_to_plot=None,figsize=(15,15))"
   ]
  },
  {
   "cell_type": "code",
   "execution_count": null,
   "metadata": {},
   "outputs": [],
   "source": [
    "conf_matrix=pd.DataFrame(confusion_matrix(y_test, y_test_pred))"
   ]
  },
  {
   "cell_type": "code",
   "execution_count": null,
   "metadata": {},
   "outputs": [],
   "source": [
    "conf_matrix.rename(columns={0:'brazilian', 1:'british', 2:'cajun_creole', 3:'chinese', 4:'filipino', 5:'french', 6:'greek', 7:'indian', \n",
    "                            8:'irish', 9:'italian', 10:'jamaican', 11:'japanese',\n",
    "                            12:'korean', 13:'mexican', 14:'moroccan', \n",
    "                            15:'russian', 16:'southern_us', 17:'spanish', \n",
    "                            18:'thai', 19:'vietnamese'},index={0:'brazilian', 1:'british', 2:'cajun_creole', 3:'chinese', 4:'filipino', 5:'french', 6:'greek', 7:'indian', \n",
    "                            8:'irish', 9:'italian', 10:'jamaican', 11:'japanese',\n",
    "                            12:'korean', 13:'mexican', 14:'moroccan', \n",
    "                            15:'russian', 16:'southern_us', 17:'spanish', \n",
    "                            18:'thai', 19:'vietnamese'},inplace=True)\n"
   ]
  },
  {
   "cell_type": "code",
   "execution_count": null,
   "metadata": {},
   "outputs": [],
   "source": [
    "conf_matrix.to_csv(r'C:\\Users\\Mankarov\\Dropbox\\Data Science\\Desafio\\Modulo 3\\datasets ideas\\Recetas e Ingredientes\\conf_matrix.csv')"
   ]
  },
  {
   "cell_type": "code",
   "execution_count": null,
   "metadata": {},
   "outputs": [],
   "source": [
    "test['country food'].value_counts()"
   ]
  },
  {
   "cell_type": "code",
   "execution_count": null,
   "metadata": {},
   "outputs": [],
   "source": [
    "prob_test.to_csv(r'C:\\Users\\Mankarov\\Dropbox\\Data Science\\Desafio\\Modulo 3\\datasets ideas\\Recetas e Ingredientes\\proba_test_df.csv')"
   ]
  },
  {
   "cell_type": "code",
   "execution_count": null,
   "metadata": {},
   "outputs": [],
   "source": [
    "test_df=pd.DataFrame(y_test)"
   ]
  },
  {
   "cell_type": "code",
   "execution_count": null,
   "metadata": {},
   "outputs": [],
   "source": [
    "test_df['y_pred']=y_test_pred"
   ]
  },
  {
   "cell_type": "code",
   "execution_count": null,
   "metadata": {},
   "outputs": [],
   "source": [
    "test_df.rename(columns={0:'y real'},inplace=True)"
   ]
  },
  {
   "cell_type": "code",
   "execution_count": null,
   "metadata": {},
   "outputs": [],
   "source": [
    "test_df"
   ]
  },
  {
   "cell_type": "code",
   "execution_count": null,
   "metadata": {},
   "outputs": [],
   "source": [
    "test"
   ]
  },
  {
   "cell_type": "code",
   "execution_count": null,
   "metadata": {},
   "outputs": [],
   "source": [
    "test_df.to_csv(r'C:\\Users\\Mankarov\\Dropbox\\Data Science\\Desafio\\Modulo 3\\datasets ideas\\Recetas e Ingredientes\\test_df.csv')"
   ]
  },
  {
   "cell_type": "code",
   "execution_count": null,
   "metadata": {},
   "outputs": [],
   "source": [
    "test_df"
   ]
  },
  {
   "cell_type": "code",
   "execution_count": null,
   "metadata": {},
   "outputs": [],
   "source": []
  },
  {
   "cell_type": "code",
   "execution_count": null,
   "metadata": {},
   "outputs": [],
   "source": []
  }
 ],
 "metadata": {
  "kernelspec": {
   "display_name": "Python 3",
   "language": "python",
   "name": "python3"
  },
  "language_info": {
   "codemirror_mode": {
    "name": "ipython",
    "version": 3
   },
   "file_extension": ".py",
   "mimetype": "text/x-python",
   "name": "python",
   "nbconvert_exporter": "python",
   "pygments_lexer": "ipython3",
   "version": "3.7.1"
  }
 },
 "nbformat": 4,
 "nbformat_minor": 2
}
